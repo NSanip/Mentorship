{
 "cells": [
  {
   "cell_type": "markdown",
   "metadata": {},
   "source": [
    "# Library Imports"
   ]
  },
  {
   "cell_type": "code",
   "execution_count": 2,
   "metadata": {},
   "outputs": [
    {
     "name": "stdout",
     "output_type": "stream",
     "text": [
      "The autoreload extension is already loaded. To reload it, use:\n",
      "  %reload_ext autoreload\n"
     ]
    }
   ],
   "source": [
    "%load_ext autoreload\n",
    "%autoreload 2\n",
    "\n",
    "%config Completer.use_jedi = False\n",
    "import yfinance as yf\n",
    "import numpy as np\n",
    "import matplotlib.pyplot as plt\n",
    "import pandas as pd\n",
    "#import xgboost as xgb\n",
    "from sklearn.model_selection import train_test_split\n",
    "import empyrical\n",
    "from pypfopt.efficient_frontier import EfficientFrontier\n",
    "import time\n",
    "import multiprocessing as mp\n",
    "#import test\n",
    "from sklearn import linear_model\n",
    "\n"
   ]
  },
  {
   "cell_type": "markdown",
   "metadata": {},
   "source": [
    "## Data Import"
   ]
  },
  {
   "cell_type": "code",
   "execution_count": 3,
   "metadata": {},
   "outputs": [
    {
     "data": {
      "text/html": [
       "<div>\n",
       "<style scoped>\n",
       "    .dataframe tbody tr th:only-of-type {\n",
       "        vertical-align: middle;\n",
       "    }\n",
       "\n",
       "    .dataframe tbody tr th {\n",
       "        vertical-align: top;\n",
       "    }\n",
       "\n",
       "    .dataframe thead th {\n",
       "        text-align: right;\n",
       "    }\n",
       "</style>\n",
       "<table border=\"1\" class=\"dataframe\">\n",
       "  <thead>\n",
       "    <tr style=\"text-align: right;\">\n",
       "      <th></th>\n",
       "      <th>GE</th>\n",
       "      <th>PFE</th>\n",
       "      <th>SBUX</th>\n",
       "      <th>GME</th>\n",
       "      <th>DAL</th>\n",
       "      <th>AAPL</th>\n",
       "      <th>GOOGL</th>\n",
       "    </tr>\n",
       "    <tr>\n",
       "      <th>Date</th>\n",
       "      <th></th>\n",
       "      <th></th>\n",
       "      <th></th>\n",
       "      <th></th>\n",
       "      <th></th>\n",
       "      <th></th>\n",
       "      <th></th>\n",
       "    </tr>\n",
       "  </thead>\n",
       "  <tbody>\n",
       "    <tr>\n",
       "      <th>2007-05-04</th>\n",
       "      <td>-0.005088</td>\n",
       "      <td>0.007816</td>\n",
       "      <td>-0.029095</td>\n",
       "      <td>-0.010122</td>\n",
       "      <td>0.012548</td>\n",
       "      <td>0.004084</td>\n",
       "      <td>-0.004459</td>\n",
       "    </tr>\n",
       "    <tr>\n",
       "      <th>2007-05-07</th>\n",
       "      <td>0.002423</td>\n",
       "      <td>0.011078</td>\n",
       "      <td>-0.011401</td>\n",
       "      <td>0.001805</td>\n",
       "      <td>-0.029552</td>\n",
       "      <td>0.030850</td>\n",
       "      <td>-0.008172</td>\n",
       "    </tr>\n",
       "    <tr>\n",
       "      <th>2007-05-08</th>\n",
       "      <td>-0.004297</td>\n",
       "      <td>-0.001096</td>\n",
       "      <td>-0.005601</td>\n",
       "      <td>0.004503</td>\n",
       "      <td>-0.035854</td>\n",
       "      <td>0.010970</td>\n",
       "      <td>-0.000984</td>\n",
       "    </tr>\n",
       "    <tr>\n",
       "      <th>2007-05-09</th>\n",
       "      <td>0.004854</td>\n",
       "      <td>0.003696</td>\n",
       "      <td>-0.004639</td>\n",
       "      <td>0.001195</td>\n",
       "      <td>0.008151</td>\n",
       "      <td>0.017324</td>\n",
       "      <td>0.005227</td>\n",
       "    </tr>\n",
       "    <tr>\n",
       "      <th>2007-05-10</th>\n",
       "      <td>-0.012883</td>\n",
       "      <td>-0.013255</td>\n",
       "      <td>-0.016644</td>\n",
       "      <td>-0.017313</td>\n",
       "      <td>-0.004548</td>\n",
       "      <td>0.004304</td>\n",
       "      <td>-0.016580</td>\n",
       "    </tr>\n",
       "    <tr>\n",
       "      <th>...</th>\n",
       "      <td>...</td>\n",
       "      <td>...</td>\n",
       "      <td>...</td>\n",
       "      <td>...</td>\n",
       "      <td>...</td>\n",
       "      <td>...</td>\n",
       "      <td>...</td>\n",
       "    </tr>\n",
       "    <tr>\n",
       "      <th>2021-04-14</th>\n",
       "      <td>0.017857</td>\n",
       "      <td>0.000269</td>\n",
       "      <td>-0.001734</td>\n",
       "      <td>0.181148</td>\n",
       "      <td>-0.001865</td>\n",
       "      <td>-0.017853</td>\n",
       "      <td>-0.005554</td>\n",
       "    </tr>\n",
       "    <tr>\n",
       "      <th>2021-04-15</th>\n",
       "      <td>-0.009503</td>\n",
       "      <td>0.011568</td>\n",
       "      <td>0.013025</td>\n",
       "      <td>-0.060590</td>\n",
       "      <td>-0.028026</td>\n",
       "      <td>0.018708</td>\n",
       "      <td>0.019332</td>\n",
       "    </tr>\n",
       "    <tr>\n",
       "      <th>2021-04-16</th>\n",
       "      <td>-0.011808</td>\n",
       "      <td>0.025798</td>\n",
       "      <td>0.014401</td>\n",
       "      <td>-0.011186</td>\n",
       "      <td>-0.003845</td>\n",
       "      <td>-0.002528</td>\n",
       "      <td>-0.001094</td>\n",
       "    </tr>\n",
       "    <tr>\n",
       "      <th>2021-04-19</th>\n",
       "      <td>0.005228</td>\n",
       "      <td>0.009334</td>\n",
       "      <td>-0.006253</td>\n",
       "      <td>0.062577</td>\n",
       "      <td>-0.010506</td>\n",
       "      <td>0.005069</td>\n",
       "      <td>0.003071</td>\n",
       "    </tr>\n",
       "    <tr>\n",
       "      <th>2021-04-20</th>\n",
       "      <td>-0.029718</td>\n",
       "      <td>0.002569</td>\n",
       "      <td>-0.011310</td>\n",
       "      <td>-0.035530</td>\n",
       "      <td>-0.036836</td>\n",
       "      <td>-0.012830</td>\n",
       "      <td>-0.004695</td>\n",
       "    </tr>\n",
       "  </tbody>\n",
       "</table>\n",
       "<p>3515 rows × 7 columns</p>\n",
       "</div>"
      ],
      "text/plain": [
       "                  GE       PFE      SBUX       GME       DAL      AAPL  \\\n",
       "Date                                                                     \n",
       "2007-05-04 -0.005088  0.007816 -0.029095 -0.010122  0.012548  0.004084   \n",
       "2007-05-07  0.002423  0.011078 -0.011401  0.001805 -0.029552  0.030850   \n",
       "2007-05-08 -0.004297 -0.001096 -0.005601  0.004503 -0.035854  0.010970   \n",
       "2007-05-09  0.004854  0.003696 -0.004639  0.001195  0.008151  0.017324   \n",
       "2007-05-10 -0.012883 -0.013255 -0.016644 -0.017313 -0.004548  0.004304   \n",
       "...              ...       ...       ...       ...       ...       ...   \n",
       "2021-04-14  0.017857  0.000269 -0.001734  0.181148 -0.001865 -0.017853   \n",
       "2021-04-15 -0.009503  0.011568  0.013025 -0.060590 -0.028026  0.018708   \n",
       "2021-04-16 -0.011808  0.025798  0.014401 -0.011186 -0.003845 -0.002528   \n",
       "2021-04-19  0.005228  0.009334 -0.006253  0.062577 -0.010506  0.005069   \n",
       "2021-04-20 -0.029718  0.002569 -0.011310 -0.035530 -0.036836 -0.012830   \n",
       "\n",
       "               GOOGL  \n",
       "Date                  \n",
       "2007-05-04 -0.004459  \n",
       "2007-05-07 -0.008172  \n",
       "2007-05-08 -0.000984  \n",
       "2007-05-09  0.005227  \n",
       "2007-05-10 -0.016580  \n",
       "...              ...  \n",
       "2021-04-14 -0.005554  \n",
       "2021-04-15  0.019332  \n",
       "2021-04-16 -0.001094  \n",
       "2021-04-19  0.003071  \n",
       "2021-04-20 -0.004695  \n",
       "\n",
       "[3515 rows x 7 columns]"
      ]
     },
     "execution_count": 3,
     "metadata": {},
     "output_type": "execute_result"
    }
   ],
   "source": [
    "tickers = [\"GE\", \"PFE\",\"SBUX\", \"GME\", \"DAL\", \"AAPL\", \"GOOGL\" ]\n",
    "stocks = pd.concat([yf.Ticker(i).history(period = \"max\")[\"Close\"].pct_change().dropna().rename(i) for i in tickers], axis=1, join = 'inner')\n",
    "stocks"
   ]
  },
  {
   "cell_type": "markdown",
   "metadata": {},
   "source": [
    "# Manual Get_Weights Function"
   ]
  },
  {
   "cell_type": "code",
   "execution_count": 4,
   "metadata": {},
   "outputs": [],
   "source": [
    "def get_weights(r0, mean, std, covar):\n",
    "   \n",
    "    #mean = [i.mean() for i in stocks]\n",
    "    #std = [i.std() for i in stocks]\n",
    "    \n",
    "    n = len(mean)\n",
    "    mean = mean.values.reshape((n,1))\n",
    "    #np.matmul(covar_inverse, covar)\n",
    "\n",
    "    ones_column = np.ones((n, 1))\n",
    "    mu_matrix = np.hstack((mean, ones_column))\n",
    "\n",
    "    returns_matrix = np.vstack((r0,np.array([[1]]))) \n",
    "\n",
    "    A = np.zeros((2, 2))\n",
    "    A[0,0] = np.matmul(np.transpose(mean), np.linalg.solve(covar.values, mean))\n",
    "    A[0,1] = np.matmul(np.transpose(mean), np.linalg.solve(covar.values, ones_column))\n",
    "    A[1,0] = np.matmul(np.transpose(mean), np.linalg.solve(covar.values, ones_column))\n",
    "    A[1,1] = np.matmul(np.transpose(ones_column), np.linalg.solve(covar.values, ones_column))\n",
    "\n",
    "    return np.linalg.solve(covar.values, np.matmul(mu_matrix, np.linalg.solve(A, returns_matrix)))\n",
    "    "
   ]
  },
  {
   "cell_type": "markdown",
   "metadata": {},
   "source": [
    "# Manual_Weights Algorithm (Rolling)"
   ]
  },
  {
   "cell_type": "code",
   "execution_count": 5,
   "metadata": {},
   "outputs": [],
   "source": [
    "days = 20\n",
    "X = stocks.resample(str(days)+\"d\").mean()\n",
    "dates = X.index[1:-1]\n",
    "portfolio = pd.DataFrame()\n",
    "\n",
    "saved_weights = []\n",
    "r0s = []\n",
    "\n",
    "for day in dates[:-1]:\n",
    "    sample = stocks[day:day+pd.offsets.DateOffset(days = (days-1))]\n",
    "    #sample = stocks[day+pd.offsets.DateOffset(days = 7):day+pd.offsets.DateOffset(days=13)]\n",
    "\n",
    "    mean = sample.mean(axis=0)\n",
    "    r0 = mean.median()\n",
    "    r0s.append([r0])\n",
    "    std = sample.std(axis=0)\n",
    "    covar = sample.cov()\n",
    "    weights_vector = get_weights(r0, mean, std, covar)\n",
    "    portfolio = pd.concat([stocks[day+pd.offsets.DateOffset(days = days):day+pd.offsets.DateOffset(days=((2*days)-1))].dot(weights_vector), portfolio])\n",
    "    saved_weights.append(weights_vector.flatten())\n",
    "portfolio = portfolio.sort_index()\n",
    "saved_weights = pd.DataFrame(saved_weights, index = dates[:-1], columns = tickers)\n"
   ]
  },
  {
   "cell_type": "markdown",
   "metadata": {},
   "source": [
    "## Manual_Weights Testing and Analysis "
   ]
  },
  {
   "cell_type": "code",
   "execution_count": 6,
   "metadata": {},
   "outputs": [],
   "source": [
    "n = len(tickers)\n",
    "equal_weights = stocks.dot(np.ones((n,1))/n)"
   ]
  },
  {
   "cell_type": "code",
   "execution_count": 7,
   "metadata": {},
   "outputs": [
    {
     "data": {
      "text/plain": [
       "<matplotlib.legend.Legend at 0x2b058933610>"
      ]
     },
     "execution_count": 7,
     "metadata": {},
     "output_type": "execute_result"
    },
    {
     "data": {
      "image/png": "[encoded data removed]",
      "text/plain": [
       "<Figure size 432x288 with 1 Axes>"
      ]
     },
     "metadata": {
      "needs_background": "light"
     },
     "output_type": "display_data"
    }
   ],
   "source": [
    "\n",
    "plt.plot((1+portfolio).cumprod(), label = 'Portfolio')\n",
    "plt.plot((1+stocks).cumprod())\n",
    "plt.plot((1+equal_weights).cumprod(), label = 'Equal Weights')\n",
    "plt.yscale(\"log\")\n",
    "plt.legend()"
   ]
  },
  {
   "cell_type": "code",
   "execution_count": 8,
   "metadata": {},
   "outputs": [
    {
     "data": {
      "text/plain": [
       "0.9922540366784204"
      ]
     },
     "execution_count": 8,
     "metadata": {},
     "output_type": "execute_result"
    }
   ],
   "source": [
    "empyrical.sharpe_ratio(stocks).max()"
   ]
  },
  {
   "cell_type": "code",
   "execution_count": 9,
   "metadata": {},
   "outputs": [
    {
     "data": {
      "text/plain": [
       "array([0.8148865])"
      ]
     },
     "execution_count": 9,
     "metadata": {},
     "output_type": "execute_result"
    }
   ],
   "source": [
    "empyrical.sharpe_ratio(equal_weights)"
   ]
  },
  {
   "cell_type": "code",
   "execution_count": 10,
   "metadata": {},
   "outputs": [
    {
     "data": {
      "text/plain": [
       "array([0.70359781])"
      ]
     },
     "execution_count": 10,
     "metadata": {},
     "output_type": "execute_result"
    }
   ],
   "source": [
    "empyrical.sharpe_ratio(portfolio)\n"
   ]
  },
  {
   "cell_type": "markdown",
   "metadata": {},
   "source": [
    "## Parameter Search\n",
    "1. Median, Window_Size = 20, Tickers = [\"GE\", \"PFE\", \"Starbucks], Sharpe:0.75383353 vs. 0.7161903905293208\n",
    "2. Median, Window_Size = 20, Tickers = [\"GE\", \"PFE\",\"SBUX\", \"GME\", \"DAL\", \"AAPL\", \"GOOGL\" ], Sharpe:  .68083264 vs .81624048"
   ]
  },
  {
   "cell_type": "markdown",
   "metadata": {},
   "source": [
    "# Efficient Frontier (Historical Data)"
   ]
  },
  {
   "cell_type": "code",
   "execution_count": 11,
   "metadata": {},
   "outputs": [],
   "source": [
    "mu = stocks.mean()\n",
    "sigma = stocks.cov()\n"
   ]
  },
  {
   "cell_type": "code",
   "execution_count": 12,
   "metadata": {},
   "outputs": [
    {
     "data": {
      "image/png": "[encoded data removed]",
      "text/plain": [
       "<Figure size 432x288 with 1 Axes>"
      ]
     },
     "metadata": {
      "needs_background": "light"
     },
     "output_type": "display_data"
    }
   ],
   "source": [
    "Ef = EfficientFrontier(mu, sigma)\n",
    "weight_vector = Ef.efficient_return(mu.median())\n",
    "weight_list = [weight_vector[ticker] for ticker in stocks.columns]\n",
    "portfolio = stocks.dot(weight_list)\n",
    "dataframe = pd.concat([portfolio, stocks], axis=1)\n",
    "(1 + dataframe).cumprod().plot()\n",
    "plt.yscale(\"log\")"
   ]
  },
  {
   "cell_type": "code",
   "execution_count": 13,
   "metadata": {},
   "outputs": [
    {
     "data": {
      "text/plain": [
       "array([0.94757585, 0.06235019, 0.42571781, 0.650973  , 0.5370051 ,\n",
       "       0.38784004, 0.99225404, 0.69764798])"
      ]
     },
     "execution_count": 13,
     "metadata": {},
     "output_type": "execute_result"
    }
   ],
   "source": [
    "empyrical.sharpe_ratio(dataframe)"
   ]
  },
  {
   "cell_type": "code",
   "execution_count": 14,
   "metadata": {},
   "outputs": [
    {
     "data": {
      "text/plain": [
       "0.9475758495693543"
      ]
     },
     "execution_count": 14,
     "metadata": {},
     "output_type": "execute_result"
    }
   ],
   "source": [
    "empyrical.sharpe_ratio(portfolio)"
   ]
  },
  {
   "cell_type": "code",
   "execution_count": 15,
   "metadata": {},
   "outputs": [
    {
     "data": {
      "text/plain": [
       "OrderedDict([('GE', 0.0),\n",
       "             ('PFE', 0.3999495915608272),\n",
       "             ('SBUX', 0.1281402418779298),\n",
       "             ('GME', 0.0430524621657134),\n",
       "             ('DAL', 0.0),\n",
       "             ('AAPL', 0.2739330520308177),\n",
       "             ('GOOGL', 0.1549246523647118)])"
      ]
     },
     "execution_count": 15,
     "metadata": {},
     "output_type": "execute_result"
    }
   ],
   "source": [
    "weight_vector"
   ]
  },
  {
   "cell_type": "code",
   "execution_count": 16,
   "metadata": {},
   "outputs": [
    {
     "name": "stderr",
     "output_type": "stream",
     "text": [
      "E:\\Python\\envs\\Mentorship\\lib\\site-packages\\pandas\\core\\frame.py:8525: RuntimeWarning: Degrees of freedom <= 0 for slice\n",
      "  base_cov = np.cov(mat.T, ddof=ddof)\n",
      "E:\\Python\\envs\\Mentorship\\lib\\site-packages\\numpy\\lib\\function_base.py:2493: RuntimeWarning: divide by zero encountered in true_divide\n",
      "  c *= np.true_divide(1, fact)\n",
      "E:\\Python\\envs\\Mentorship\\lib\\site-packages\\numpy\\lib\\function_base.py:2493: RuntimeWarning: invalid value encountered in multiply\n",
      "  c *= np.true_divide(1, fact)\n"
     ]
    }
   ],
   "source": [
    "days = 20\n",
    "sampled_means = stocks.resample(str(days)+\"d\").mean()\n",
    "sampled_covars = [sample[1].cov() for sample in stocks.resample(str(days)+\"d\")]"
   ]
  },
  {
   "cell_type": "code",
   "execution_count": 17,
   "metadata": {},
   "outputs": [
    {
     "ename": "ValueError",
     "evalue": "P must be symmetric/Hermitian.",
     "output_type": "error",
     "traceback": [
      "\u001b[1;31m---------------------------------------------------------------------------\u001b[0m",
      "\u001b[1;31mValueError\u001b[0m                                Traceback (most recent call last)",
      "\u001b[1;32m<ipython-input-17-27e6afbb0e50>\u001b[0m in \u001b[0;36m<module>\u001b[1;34m\u001b[0m\n\u001b[1;32m----> 1\u001b[1;33m \u001b[0mweight_dicts\u001b[0m \u001b[1;33m=\u001b[0m \u001b[1;33m[\u001b[0m\u001b[0mEfficientFrontier\u001b[0m\u001b[1;33m(\u001b[0m\u001b[0mmean\u001b[0m\u001b[1;33m,\u001b[0m\u001b[0mcov\u001b[0m\u001b[1;33m)\u001b[0m\u001b[1;33m.\u001b[0m\u001b[0mmin_volatility\u001b[0m\u001b[1;33m(\u001b[0m\u001b[1;33m)\u001b[0m \u001b[1;32mfor\u001b[0m \u001b[0mmean\u001b[0m\u001b[1;33m,\u001b[0m \u001b[0mcov\u001b[0m \u001b[1;32min\u001b[0m \u001b[0mzip\u001b[0m\u001b[1;33m(\u001b[0m\u001b[0msampled_means\u001b[0m\u001b[1;33m.\u001b[0m\u001b[0mvalues\u001b[0m\u001b[1;33m,\u001b[0m\u001b[0msampled_covars\u001b[0m\u001b[1;33m)\u001b[0m\u001b[1;33m]\u001b[0m\u001b[1;33m\u001b[0m\u001b[1;33m\u001b[0m\u001b[0m\n\u001b[0m",
      "\u001b[1;32m<ipython-input-17-27e6afbb0e50>\u001b[0m in \u001b[0;36m<listcomp>\u001b[1;34m(.0)\u001b[0m\n\u001b[1;32m----> 1\u001b[1;33m \u001b[0mweight_dicts\u001b[0m \u001b[1;33m=\u001b[0m \u001b[1;33m[\u001b[0m\u001b[0mEfficientFrontier\u001b[0m\u001b[1;33m(\u001b[0m\u001b[0mmean\u001b[0m\u001b[1;33m,\u001b[0m\u001b[0mcov\u001b[0m\u001b[1;33m)\u001b[0m\u001b[1;33m.\u001b[0m\u001b[0mmin_volatility\u001b[0m\u001b[1;33m(\u001b[0m\u001b[1;33m)\u001b[0m \u001b[1;32mfor\u001b[0m \u001b[0mmean\u001b[0m\u001b[1;33m,\u001b[0m \u001b[0mcov\u001b[0m \u001b[1;32min\u001b[0m \u001b[0mzip\u001b[0m\u001b[1;33m(\u001b[0m\u001b[0msampled_means\u001b[0m\u001b[1;33m.\u001b[0m\u001b[0mvalues\u001b[0m\u001b[1;33m,\u001b[0m\u001b[0msampled_covars\u001b[0m\u001b[1;33m)\u001b[0m\u001b[1;33m]\u001b[0m\u001b[1;33m\u001b[0m\u001b[1;33m\u001b[0m\u001b[0m\n\u001b[0m",
      "\u001b[1;32mE:\\Python\\envs\\Mentorship\\lib\\site-packages\\pypfopt\\efficient_frontier\\efficient_frontier.py\u001b[0m in \u001b[0;36mmin_volatility\u001b[1;34m(self)\u001b[0m\n\u001b[0;32m    185\u001b[0m         \u001b[1;33m:\u001b[0m\u001b[0mrtype\u001b[0m\u001b[1;33m:\u001b[0m \u001b[0mOrderedDict\u001b[0m\u001b[1;33m\u001b[0m\u001b[1;33m\u001b[0m\u001b[0m\n\u001b[0;32m    186\u001b[0m         \"\"\"\n\u001b[1;32m--> 187\u001b[1;33m         self._objective = objective_functions.portfolio_variance(\n\u001b[0m\u001b[0;32m    188\u001b[0m             \u001b[0mself\u001b[0m\u001b[1;33m.\u001b[0m\u001b[0m_w\u001b[0m\u001b[1;33m,\u001b[0m \u001b[0mself\u001b[0m\u001b[1;33m.\u001b[0m\u001b[0mcov_matrix\u001b[0m\u001b[1;33m\u001b[0m\u001b[1;33m\u001b[0m\u001b[0m\n\u001b[0;32m    189\u001b[0m         )\n",
      "\u001b[1;32mE:\\Python\\envs\\Mentorship\\lib\\site-packages\\pypfopt\\objective_functions.py\u001b[0m in \u001b[0;36mportfolio_variance\u001b[1;34m(w, cov_matrix)\u001b[0m\n\u001b[0;32m     68\u001b[0m     \u001b[1;33m:\u001b[0m\u001b[0mrtype\u001b[0m\u001b[1;33m:\u001b[0m \u001b[0mfloat\u001b[0m \u001b[0mOR\u001b[0m \u001b[0mcp\u001b[0m\u001b[1;33m.\u001b[0m\u001b[0mExpression\u001b[0m\u001b[1;33m\u001b[0m\u001b[1;33m\u001b[0m\u001b[0m\n\u001b[0;32m     69\u001b[0m     \"\"\"\n\u001b[1;32m---> 70\u001b[1;33m     \u001b[0mvariance\u001b[0m \u001b[1;33m=\u001b[0m \u001b[0mcp\u001b[0m\u001b[1;33m.\u001b[0m\u001b[0mquad_form\u001b[0m\u001b[1;33m(\u001b[0m\u001b[0mw\u001b[0m\u001b[1;33m,\u001b[0m \u001b[0mcov_matrix\u001b[0m\u001b[1;33m)\u001b[0m\u001b[1;33m\u001b[0m\u001b[1;33m\u001b[0m\u001b[0m\n\u001b[0m\u001b[0;32m     71\u001b[0m     \u001b[1;32mreturn\u001b[0m \u001b[0m_objective_value\u001b[0m\u001b[1;33m(\u001b[0m\u001b[0mw\u001b[0m\u001b[1;33m,\u001b[0m \u001b[0mvariance\u001b[0m\u001b[1;33m)\u001b[0m\u001b[1;33m\u001b[0m\u001b[1;33m\u001b[0m\u001b[0m\n\u001b[0;32m     72\u001b[0m \u001b[1;33m\u001b[0m\u001b[0m\n",
      "\u001b[1;32mE:\\Python\\envs\\Mentorship\\lib\\site-packages\\cvxpy\\atoms\\quad_form.py\u001b[0m in \u001b[0;36mquad_form\u001b[1;34m(x, P)\u001b[0m\n\u001b[0;32m    225\u001b[0m         \u001b[1;32mreturn\u001b[0m \u001b[0mx\u001b[0m\u001b[1;33m.\u001b[0m\u001b[0mH\u001b[0m \u001b[1;33m@\u001b[0m \u001b[0mP\u001b[0m \u001b[1;33m@\u001b[0m \u001b[0mx\u001b[0m\u001b[1;33m\u001b[0m\u001b[1;33m\u001b[0m\u001b[0m\n\u001b[0;32m    226\u001b[0m     \u001b[1;32melif\u001b[0m \u001b[0mP\u001b[0m\u001b[1;33m.\u001b[0m\u001b[0mis_constant\u001b[0m\u001b[1;33m(\u001b[0m\u001b[1;33m)\u001b[0m\u001b[1;33m:\u001b[0m\u001b[1;33m\u001b[0m\u001b[1;33m\u001b[0m\u001b[0m\n\u001b[1;32m--> 227\u001b[1;33m         \u001b[1;32mreturn\u001b[0m \u001b[0mQuadForm\u001b[0m\u001b[1;33m(\u001b[0m\u001b[0mx\u001b[0m\u001b[1;33m,\u001b[0m \u001b[0mP\u001b[0m\u001b[1;33m)\u001b[0m\u001b[1;33m\u001b[0m\u001b[1;33m\u001b[0m\u001b[0m\n\u001b[0m\u001b[0;32m    228\u001b[0m     \u001b[1;32melse\u001b[0m\u001b[1;33m:\u001b[0m\u001b[1;33m\u001b[0m\u001b[1;33m\u001b[0m\u001b[0m\n\u001b[0;32m    229\u001b[0m         raise Exception(\n",
      "\u001b[1;32mE:\\Python\\envs\\Mentorship\\lib\\site-packages\\cvxpy\\atoms\\quad_form.py\u001b[0m in \u001b[0;36m__init__\u001b[1;34m(self, x, P)\u001b[0m\n\u001b[0;32m     35\u001b[0m \u001b[1;33m\u001b[0m\u001b[0m\n\u001b[0;32m     36\u001b[0m     \u001b[1;32mdef\u001b[0m \u001b[0m__init__\u001b[0m\u001b[1;33m(\u001b[0m\u001b[0mself\u001b[0m\u001b[1;33m,\u001b[0m \u001b[0mx\u001b[0m\u001b[1;33m,\u001b[0m \u001b[0mP\u001b[0m\u001b[1;33m)\u001b[0m\u001b[1;33m:\u001b[0m\u001b[1;33m\u001b[0m\u001b[1;33m\u001b[0m\u001b[0m\n\u001b[1;32m---> 37\u001b[1;33m         \u001b[0msuper\u001b[0m\u001b[1;33m(\u001b[0m\u001b[0mQuadForm\u001b[0m\u001b[1;33m,\u001b[0m \u001b[0mself\u001b[0m\u001b[1;33m)\u001b[0m\u001b[1;33m.\u001b[0m\u001b[0m__init__\u001b[0m\u001b[1;33m(\u001b[0m\u001b[0mx\u001b[0m\u001b[1;33m,\u001b[0m \u001b[0mP\u001b[0m\u001b[1;33m)\u001b[0m\u001b[1;33m\u001b[0m\u001b[1;33m\u001b[0m\u001b[0m\n\u001b[0m\u001b[0;32m     38\u001b[0m \u001b[1;33m\u001b[0m\u001b[0m\n\u001b[0;32m     39\u001b[0m     \u001b[1;32mdef\u001b[0m \u001b[0mnumeric\u001b[0m\u001b[1;33m(\u001b[0m\u001b[0mself\u001b[0m\u001b[1;33m,\u001b[0m \u001b[0mvalues\u001b[0m\u001b[1;33m)\u001b[0m\u001b[1;33m:\u001b[0m\u001b[1;33m\u001b[0m\u001b[1;33m\u001b[0m\u001b[0m\n",
      "\u001b[1;32mE:\\Python\\envs\\Mentorship\\lib\\site-packages\\cvxpy\\atoms\\atom.py\u001b[0m in \u001b[0;36m__init__\u001b[1;34m(self, *args)\u001b[0m\n\u001b[0;32m     43\u001b[0m         \u001b[1;31m# Convert raw values to Constants.\u001b[0m\u001b[1;33m\u001b[0m\u001b[1;33m\u001b[0m\u001b[1;33m\u001b[0m\u001b[0m\n\u001b[0;32m     44\u001b[0m         \u001b[0mself\u001b[0m\u001b[1;33m.\u001b[0m\u001b[0margs\u001b[0m \u001b[1;33m=\u001b[0m \u001b[1;33m[\u001b[0m\u001b[0mAtom\u001b[0m\u001b[1;33m.\u001b[0m\u001b[0mcast_to_const\u001b[0m\u001b[1;33m(\u001b[0m\u001b[0marg\u001b[0m\u001b[1;33m)\u001b[0m \u001b[1;32mfor\u001b[0m \u001b[0marg\u001b[0m \u001b[1;32min\u001b[0m \u001b[0margs\u001b[0m\u001b[1;33m]\u001b[0m\u001b[1;33m\u001b[0m\u001b[1;33m\u001b[0m\u001b[0m\n\u001b[1;32m---> 45\u001b[1;33m         \u001b[0mself\u001b[0m\u001b[1;33m.\u001b[0m\u001b[0mvalidate_arguments\u001b[0m\u001b[1;33m(\u001b[0m\u001b[1;33m)\u001b[0m\u001b[1;33m\u001b[0m\u001b[1;33m\u001b[0m\u001b[0m\n\u001b[0m\u001b[0;32m     46\u001b[0m         \u001b[0mself\u001b[0m\u001b[1;33m.\u001b[0m\u001b[0m_shape\u001b[0m \u001b[1;33m=\u001b[0m \u001b[0mself\u001b[0m\u001b[1;33m.\u001b[0m\u001b[0mshape_from_args\u001b[0m\u001b[1;33m(\u001b[0m\u001b[1;33m)\u001b[0m\u001b[1;33m\u001b[0m\u001b[1;33m\u001b[0m\u001b[0m\n\u001b[0;32m     47\u001b[0m         \u001b[1;32mif\u001b[0m \u001b[0mlen\u001b[0m\u001b[1;33m(\u001b[0m\u001b[0mself\u001b[0m\u001b[1;33m.\u001b[0m\u001b[0m_shape\u001b[0m\u001b[1;33m)\u001b[0m \u001b[1;33m>\u001b[0m \u001b[1;36m2\u001b[0m\u001b[1;33m:\u001b[0m\u001b[1;33m\u001b[0m\u001b[1;33m\u001b[0m\u001b[0m\n",
      "\u001b[1;32mE:\\Python\\envs\\Mentorship\\lib\\site-packages\\cvxpy\\atoms\\quad_form.py\u001b[0m in \u001b[0;36mvalidate_arguments\u001b[1;34m(self)\u001b[0m\n\u001b[0;32m     51\u001b[0m             \u001b[1;32mraise\u001b[0m \u001b[0mValueError\u001b[0m\u001b[1;33m(\u001b[0m\u001b[1;34m\"Invalid dimensions for arguments.\"\u001b[0m\u001b[1;33m)\u001b[0m\u001b[1;33m\u001b[0m\u001b[1;33m\u001b[0m\u001b[0m\n\u001b[0;32m     52\u001b[0m         \u001b[1;32mif\u001b[0m \u001b[1;32mnot\u001b[0m \u001b[0mself\u001b[0m\u001b[1;33m.\u001b[0m\u001b[0margs\u001b[0m\u001b[1;33m[\u001b[0m\u001b[1;36m1\u001b[0m\u001b[1;33m]\u001b[0m\u001b[1;33m.\u001b[0m\u001b[0mis_hermitian\u001b[0m\u001b[1;33m(\u001b[0m\u001b[1;33m)\u001b[0m\u001b[1;33m:\u001b[0m\u001b[1;33m\u001b[0m\u001b[1;33m\u001b[0m\u001b[0m\n\u001b[1;32m---> 53\u001b[1;33m             \u001b[1;32mraise\u001b[0m \u001b[0mValueError\u001b[0m\u001b[1;33m(\u001b[0m\u001b[1;34m\"P must be symmetric/Hermitian.\"\u001b[0m\u001b[1;33m)\u001b[0m\u001b[1;33m\u001b[0m\u001b[1;33m\u001b[0m\u001b[0m\n\u001b[0m\u001b[0;32m     54\u001b[0m \u001b[1;33m\u001b[0m\u001b[0m\n\u001b[0;32m     55\u001b[0m     \u001b[1;32mdef\u001b[0m \u001b[0msign_from_args\u001b[0m\u001b[1;33m(\u001b[0m\u001b[0mself\u001b[0m\u001b[1;33m)\u001b[0m\u001b[1;33m:\u001b[0m\u001b[1;33m\u001b[0m\u001b[1;33m\u001b[0m\u001b[0m\n",
      "\u001b[1;31mValueError\u001b[0m: P must be symmetric/Hermitian."
     ]
    }
   ],
   "source": [
    "weight_dicts = [EfficientFrontier(mean,cov).min_volatility() for mean, cov in zip(sampled_means.values,sampled_covars)]"
   ]
  },
  {
   "cell_type": "markdown",
   "metadata": {},
   "source": [
    "# Efficient Frontier Algorithm (rolling)"
   ]
  },
  {
   "cell_type": "code",
   "execution_count": null,
   "metadata": {},
   "outputs": [],
   "source": [
    "days = 5\n",
    "X = stocks.resample(str(days)+\"d\").mean()\n",
    "dates = X.index[1:-1]\n",
    "portfolio = pd.DataFrame()\n",
    "\n",
    "saved_weights = []\n",
    "r0s = []\n",
    "\n",
    "for day in dates[:-1]: \n",
    "    sample = stocks[day:day+pd.offsets.DateOffset(days = (days-1))]\n",
    "    #sample = stocks[day+pd.offsets.DateOffset(days = 7):day+pd.offsets.DateOffset(days=13)]\n",
    "\n",
    "    mean = sample.mean(axis=0)\n",
    "    covar = sample.cov()\n",
    "    weights_vector = [EfficientFrontier(mean,covar).max_quadratic_utility()[ticker] for ticker in stocks.columns]\n",
    "    portfolio = pd.concat([portfolio,stocks[day+pd.offsets.DateOffset(days = days):day+pd.offsets.DateOffset(days=((2*days)-1))].dot(weights_vector)])\n",
    "    saved_weights.append(weights_vector)\n",
    "portfolio = portfolio.sort_index()\n",
    "saved_weights = pd.DataFrame(saved_weights, index = dates[:-1], columns = tickers)"
   ]
  },
  {
   "cell_type": "markdown",
   "metadata": {},
   "source": [
    "## Efficient Frontier Testing and Analysis"
   ]
  },
  {
   "cell_type": "code",
   "execution_count": null,
   "metadata": {},
   "outputs": [],
   "source": [
    "plt.stackplot(saved_weights['2020':'2020'].index, *(saved_weights[ticker]['2020':'2020'] for ticker in saved_weights.columns), labels=saved_weights.columns)\n",
    "plt.legend()"
   ]
  },
  {
   "cell_type": "code",
   "execution_count": null,
   "metadata": {},
   "outputs": [],
   "source": [
    "(1+pd.concat([portfolio,stocks],axis=1)).cumprod().plot()\n",
    "plt.yscale('log')"
   ]
  },
  {
   "cell_type": "code",
   "execution_count": null,
   "metadata": {},
   "outputs": [],
   "source": [
    "empyrical.sharpe_ratio(pd.concat([portfolio,stocks],axis=1))"
   ]
  },
  {
   "cell_type": "code",
   "execution_count": null,
   "metadata": {},
   "outputs": [],
   "source": [
    "saved_weights.sum(axis=1).max()"
   ]
  },
  {
   "cell_type": "code",
   "execution_count": null,
   "metadata": {},
   "outputs": [],
   "source": [
    "def Mean_Variance_Rolling(days):\n",
    "    X = stocks.resample(str(days)+\"d\").mean()\n",
    "    dates = X.index[1:-1]\n",
    "    portfolio = pd.DataFrame()\n",
    "\n",
    "    saved_weights = []\n",
    "    r0s = []\n",
    "\n",
    "    for day in dates[:-1]:\n",
    "        #sample = stocks[day:day+pd.offsets.DateOffset(days = (days-1))]\n",
    "        sample = stocks[day+pd.offsets.DateOffset(days = 7):day+pd.offsets.DateOffset(days=13)]\n",
    "\n",
    "        mean = sample.mean(axis=0)\n",
    "        covar = sample.cov()\n",
    "        weights_vector = [EfficientFrontier(mean,covar).min_volatility()[ticker] for ticker in stocks.columns]\n",
    "        portfolio = pd.concat([portfolio,stocks[day+pd.offsets.DateOffset(days = days):day+pd.offsets.DateOffset(days=((2*days)-1))].dot(weights_vector)])\n",
    "        saved_weights.append(weights_vector)\n",
    "    portfolio = portfolio.sort_index()\n",
    "    saved_weights = pd.DataFrame(saved_weights, index = dates[:-1], columns = tickers)\n",
    "    return portfolio\n",
    "sample\n"
   ]
  },
  {
   "cell_type": "code",
   "execution_count": null,
   "metadata": {},
   "outputs": [],
   "source": [
    "#start_time = time.time()\n",
    "#with mp.Pool(mp.cpu_count()) as p:\n",
    "#    all_portfolios = p.map(Mean_Variance_Rolling, range(10,15))\n",
    "#print(time.time() - start_time)"
   ]
  },
  {
   "cell_type": "code",
   "execution_count": null,
   "metadata": {},
   "outputs": [],
   "source": [
    "import test"
   ]
  },
  {
   "cell_type": "code",
   "execution_count": null,
   "metadata": {},
   "outputs": [],
   "source": [
    "start_time = time.time()\n",
    "y = test.run_test(tickers,stocks,range(5,255))\n",
    "print(time.time() - start_time)"
   ]
  },
  {
   "cell_type": "code",
   "execution_count": null,
   "metadata": {},
   "outputs": [],
   "source": [
    "max([empyrical.sharpe_ratio(i) for i in y])"
   ]
  },
  {
   "cell_type": "markdown",
   "metadata": {},
   "source": [
    "# empyrical.sharpe_ratio(stocks).max()"
   ]
  },
  {
   "cell_type": "code",
   "execution_count": null,
   "metadata": {},
   "outputs": [],
   "source": [
    "empyrical.sharpe_ratio(stocks.mean(axis=1))"
   ]
  },
  {
   "cell_type": "code",
   "execution_count": null,
   "metadata": {},
   "outputs": [],
   "source": [
    "start_time = time.time()\n",
    "y = [x+1 for x in range(10000)]\n",
    "print(time.time() - start_time)"
   ]
  },
  {
   "cell_type": "markdown",
   "metadata": {},
   "source": [
    "# Sharpe Ratio Correlation"
   ]
  },
  {
   "cell_type": "code",
   "execution_count": null,
   "metadata": {},
   "outputs": [],
   "source": [
    "days = 21\n",
    "X = stocks.resample(str(days)+\"d\").mean()\n",
    "dates = X.index[1:-1]\n",
    "portfolio = pd.DataFrame()\n",
    "\n",
    "sharpe_ratios = []\n",
    "\n",
    "\n",
    "for day in dates[:-1]: \n",
    "    sample = stocks[\"AAPL\"][day:day+pd.offsets.DateOffset(days = (days-1))]\n",
    "    sharpe_ratios.append(empyrical.calmar_ratio(sample))\n",
    "\n",
    "sharpe_ratios_dataframe = pd.DataFrame(index = dates[:-1], columns = [\"AAPL\"], data = sharpe_ratios)\n"
   ]
  },
  {
   "cell_type": "code",
   "execution_count": null,
   "metadata": {},
   "outputs": [],
   "source": [
    "X"
   ]
  },
  {
   "cell_type": "code",
   "execution_count": null,
   "metadata": {},
   "outputs": [],
   "source": [
    "plt.scatter(dates[:-1], sharpe_ratios)\n"
   ]
  },
  {
   "cell_type": "code",
   "execution_count": null,
   "metadata": {},
   "outputs": [],
   "source": [
    "X = np.array((dates[:-1] - dates[:-1].min())  / pd.Timedelta(1,'D')).reshape(-1,1)\n",
    "Y = np.array(sharpe_ratios).flatten()\n",
    "\n",
    "model = linear_model.LinearRegression(fit_intercept = True)\n",
    "model.fit(X,Y)\n",
    "\n",
    "y_pred = model.predict(X)\n",
    "\n",
    "plt.plot(X.flatten(), y_pred.flatten())\n",
    "plt.scatter(X,Y)\n",
    "print(model.coef_,model.intercept_)"
   ]
  },
  {
   "cell_type": "code",
   "execution_count": null,
   "metadata": {},
   "outputs": [],
   "source": []
  }
 ],
 "metadata": {
  "kernelspec": {
   "display_name": "Python 3",
   "language": "python",
   "name": "python3"
  },
  "language_info": {
   "codemirror_mode": {
    "name": "ipython",
    "version": 3
   },
   "file_extension": ".py",
   "mimetype": "text/x-python",
   "name": "python",
   "nbconvert_exporter": "python",
   "pygments_lexer": "ipython3",
   "version": "3.8.8"
  },
  "toc-autonumbering": true
 },
 "nbformat": 4,
 "nbformat_minor": 4
}
