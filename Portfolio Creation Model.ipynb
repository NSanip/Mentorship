{
 "cells": [
  {
   "cell_type": "code",
   "execution_count": 1,
   "metadata": {},
   "outputs": [],
   "source": [
    "import yfinance as yf\n",
    "import numpy as np\n",
    "import matplotlib.pyplot as plt\n",
    "import pandas as pd\n",
    "import xgboost as xgb\n",
    "from sklearn.model_selection import train_test_split\n",
    "import empyrical"
   ]
  },
  {
   "cell_type": "code",
   "execution_count": 2,
   "metadata": {},
   "outputs": [],
   "source": [
    "tickers = [\"GE\", \"PFE\",\"SBUX\"]\n",
    "stocks = pd.concat([yf.Ticker(i).history(period = \"max\")[\"Close\"].pct_change().dropna().rename(i) for i in tickers], axis=1, join = 'inner')"
   ]
  },
  {
   "cell_type": "code",
   "execution_count": 3,
   "metadata": {},
   "outputs": [],
   "source": [
    "def get_weights(r0, mean, std, covar):\n",
    "   \n",
    "    #mean = [i.mean() for i in stocks]\n",
    "    #std = [i.std() for i in stocks]\n",
    "    \n",
    "    n = len(mean)\n",
    "    mean = mean.values.reshape((n,1))\n",
    "    #np.matmul(covar_inverse, covar)\n",
    "\n",
    "    ones_column = np.ones((n, 1))\n",
    "    mu_matrix = np.hstack((mean, ones_column))\n",
    "\n",
    "    returns_matrix = np.vstack((r0,np.array([[1]]))) \n",
    "\n",
    "    A = np.zeros((2, 2))\n",
    "    A[0,0] = np.matmul(np.transpose(mean), np.linalg.solve(covar.values, mean))\n",
    "    A[0,1] = np.matmul(np.transpose(mean), np.linalg.solve(covar.values, ones_column))\n",
    "    A[1,0] = np.matmul(np.transpose(mean), np.linalg.solve(covar.values, ones_column))\n",
    "    A[1,1] = np.matmul(np.transpose(ones_column), np.linalg.solve(covar.values, ones_column))\n",
    "\n",
    "    return np.linalg.solve(covar.values, np.matmul(mu_matrix, np.linalg.solve(A, returns_matrix)))\n",
    "    "
   ]
  },
  {
   "cell_type": "code",
   "execution_count": 56,
   "metadata": {},
   "outputs": [
    {
     "data": {
      "text/html": [
       "<div>\n",
       "<style scoped>\n",
       "    .dataframe tbody tr th:only-of-type {\n",
       "        vertical-align: middle;\n",
       "    }\n",
       "\n",
       "    .dataframe tbody tr th {\n",
       "        vertical-align: top;\n",
       "    }\n",
       "\n",
       "    .dataframe thead th {\n",
       "        text-align: right;\n",
       "    }\n",
       "</style>\n",
       "<table border=\"1\" class=\"dataframe\">\n",
       "  <thead>\n",
       "    <tr style=\"text-align: right;\">\n",
       "      <th></th>\n",
       "      <th>GE</th>\n",
       "      <th>PFE</th>\n",
       "      <th>SBUX</th>\n",
       "    </tr>\n",
       "  </thead>\n",
       "  <tbody>\n",
       "    <tr>\n",
       "      <th>0</th>\n",
       "      <td>-0.014552</td>\n",
       "      <td>0.872912</td>\n",
       "      <td>0.14164</td>\n",
       "    </tr>\n",
       "  </tbody>\n",
       "</table>\n",
       "</div>"
      ],
      "text/plain": [
       "         GE       PFE     SBUX\n",
       "0 -0.014552  0.872912  0.14164"
      ]
     },
     "execution_count": 56,
     "metadata": {},
     "output_type": "execute_result"
    }
   ],
   "source": [
    "test "
   ]
  },
  {
   "cell_type": "code",
   "execution_count": 68,
   "metadata": {},
   "outputs": [
    {
     "name": "stderr",
     "output_type": "stream",
     "text": [
      "E:\\Python\\lib\\site-packages\\pandas\\core\\frame.py:8273: RuntimeWarning: Degrees of freedom <= 0 for slice\n",
      "  base_cov = np.cov(mat.T, ddof=ddof)\n",
      "E:\\Python\\lib\\site-packages\\numpy\\lib\\function_base.py:2480: RuntimeWarning: divide by zero encountered in true_divide\n",
      "  c *= np.true_divide(1, fact)\n",
      "E:\\Python\\lib\\site-packages\\numpy\\lib\\function_base.py:2480: RuntimeWarning: invalid value encountered in multiply\n",
      "  c *= np.true_divide(1, fact)\n"
     ]
    }
   ],
   "source": [
    "X = stocks.resample(\"7d\").mean()\n",
    "dates = X.index[1:-1]\n",
    "portfolio = pd.DataFrame()\n",
    "\n",
    "saved_weights = []\n",
    "r0s = []\n",
    "\n",
    "for day in dates[:-1]:\n",
    "    sample = stocks[day:day+pd.offsets.DateOffset(days = 6)]\n",
    "    #sample = stocks[day+pd.offsets.DateOffset(days = 7):day+pd.offsets.DateOffset(days=13)]\n",
    "\n",
    "    mean = sample.mean(axis=0)\n",
    "    r0 = mean.mean()\n",
    "    r0s.append([r0])\n",
    "    std = sample.std(axis=0)\n",
    "    covar = sample.cov()\n",
    "    weights_vector = get_weights(r0, mean, std, covar)\n",
    "    portfolio = pd.concat([stocks[day+pd.offsets.DateOffset(days = 7):day+pd.offsets.DateOffset(days=13)].dot(weights_vector), portfolio])\n",
    "    saved_weights.append(weights_vector.flatten())\n",
    "portfolio = portfolio.sort_index()\n",
    "saved_weights = pd.DataFrame(saved_weights, index = dates[:-1], columns = tickers)\n"
   ]
  },
  {
   "cell_type": "code",
   "execution_count": 95,
   "metadata": {},
   "outputs": [
    {
     "data": {
      "text/plain": [
       "array([[ 0.80173171],\n",
       "       [-0.07557151],\n",
       "       [ 0.27383979]])"
      ]
     },
     "execution_count": 95,
     "metadata": {},
     "output_type": "execute_result"
    }
   ],
   "source": [
    "#Troubleshooting\n",
    "sample.mean(axis=0)\n",
    "day = dates[1]\n",
    "sample = stocks[day:day+pd.offsets.DateOffset(days = 6)]\n",
    "mean = sample.mean(axis=0)\n",
    "r0 = mean.mean()\n",
    "r0s.append([r0])\n",
    "std = sample.std(axis=0)\n",
    "covar = sample.cov()\n",
    "weights_vector = get_weights(r0, mean, std, covar)\n",
    "weights_vector\n",
    "\n",
    "\n",
    "\n",
    "\n"
   ]
  },
  {
   "cell_type": "code",
   "execution_count": 96,
   "metadata": {},
   "outputs": [
    {
     "data": {
      "text/plain": [
       "0.01191687542868971"
      ]
     },
     "execution_count": 96,
     "metadata": {},
     "output_type": "execute_result"
    }
   ],
   "source": [
    "r0"
   ]
  },
  {
   "cell_type": "code",
   "execution_count": 97,
   "metadata": {},
   "outputs": [
    {
     "data": {
      "text/plain": [
       "GE      0.002959\n",
       "PFE    -0.001617\n",
       "SBUX    0.034409\n",
       "dtype: float64"
      ]
     },
     "execution_count": 97,
     "metadata": {},
     "output_type": "execute_result"
    }
   ],
   "source": [
    "mean"
   ]
  },
  {
   "cell_type": "code",
   "execution_count": 98,
   "metadata": {},
   "outputs": [
    {
     "data": {
      "text/html": [
       "<div>\n",
       "<style scoped>\n",
       "    .dataframe tbody tr th:only-of-type {\n",
       "        vertical-align: middle;\n",
       "    }\n",
       "\n",
       "    .dataframe tbody tr th {\n",
       "        vertical-align: top;\n",
       "    }\n",
       "\n",
       "    .dataframe thead th {\n",
       "        text-align: right;\n",
       "    }\n",
       "</style>\n",
       "<table border=\"1\" class=\"dataframe\">\n",
       "  <thead>\n",
       "    <tr style=\"text-align: right;\">\n",
       "      <th></th>\n",
       "      <th>GE</th>\n",
       "      <th>PFE</th>\n",
       "      <th>SBUX</th>\n",
       "    </tr>\n",
       "  </thead>\n",
       "  <tbody>\n",
       "    <tr>\n",
       "      <th>GE</th>\n",
       "      <td>0.000075</td>\n",
       "      <td>0.000004</td>\n",
       "      <td>-0.000213</td>\n",
       "    </tr>\n",
       "    <tr>\n",
       "      <th>PFE</th>\n",
       "      <td>0.000004</td>\n",
       "      <td>0.000009</td>\n",
       "      <td>-0.000012</td>\n",
       "    </tr>\n",
       "    <tr>\n",
       "      <th>SBUX</th>\n",
       "      <td>-0.000213</td>\n",
       "      <td>-0.000012</td>\n",
       "      <td>0.000677</td>\n",
       "    </tr>\n",
       "  </tbody>\n",
       "</table>\n",
       "</div>"
      ],
      "text/plain": [
       "            GE       PFE      SBUX\n",
       "GE    0.000075  0.000004 -0.000213\n",
       "PFE   0.000004  0.000009 -0.000012\n",
       "SBUX -0.000213 -0.000012  0.000677"
      ]
     },
     "execution_count": 98,
     "metadata": {},
     "output_type": "execute_result"
    }
   ],
   "source": [
    "covar"
   ]
  },
  {
   "cell_type": "code",
   "execution_count": 91,
   "metadata": {},
   "outputs": [
    {
     "data": {
      "text/html": [
       "<div>\n",
       "<style scoped>\n",
       "    .dataframe tbody tr th:only-of-type {\n",
       "        vertical-align: middle;\n",
       "    }\n",
       "\n",
       "    .dataframe tbody tr th {\n",
       "        vertical-align: top;\n",
       "    }\n",
       "\n",
       "    .dataframe thead th {\n",
       "        text-align: right;\n",
       "    }\n",
       "</style>\n",
       "<table border=\"1\" class=\"dataframe\">\n",
       "  <thead>\n",
       "    <tr style=\"text-align: right;\">\n",
       "      <th></th>\n",
       "      <th>GE</th>\n",
       "      <th>PFE</th>\n",
       "      <th>SBUX</th>\n",
       "    </tr>\n",
       "    <tr>\n",
       "      <th>Date</th>\n",
       "      <th></th>\n",
       "      <th></th>\n",
       "      <th></th>\n",
       "    </tr>\n",
       "  </thead>\n",
       "  <tbody>\n",
       "    <tr>\n",
       "      <th>1992-07-06</th>\n",
       "      <td>0.347791</td>\n",
       "      <td>0.459594</td>\n",
       "      <td>0.192616</td>\n",
       "    </tr>\n",
       "    <tr>\n",
       "      <th>1992-07-13</th>\n",
       "      <td>0.801732</td>\n",
       "      <td>-0.075572</td>\n",
       "      <td>0.273840</td>\n",
       "    </tr>\n",
       "    <tr>\n",
       "      <th>1992-07-20</th>\n",
       "      <td>0.261389</td>\n",
       "      <td>0.426276</td>\n",
       "      <td>0.312335</td>\n",
       "    </tr>\n",
       "    <tr>\n",
       "      <th>1992-07-27</th>\n",
       "      <td>0.964424</td>\n",
       "      <td>-0.193685</td>\n",
       "      <td>0.229261</td>\n",
       "    </tr>\n",
       "    <tr>\n",
       "      <th>1992-08-03</th>\n",
       "      <td>0.369565</td>\n",
       "      <td>0.594235</td>\n",
       "      <td>0.036200</td>\n",
       "    </tr>\n",
       "    <tr>\n",
       "      <th>...</th>\n",
       "      <td>...</td>\n",
       "      <td>...</td>\n",
       "      <td>...</td>\n",
       "    </tr>\n",
       "    <tr>\n",
       "      <th>2021-02-15</th>\n",
       "      <td>0.311077</td>\n",
       "      <td>0.479906</td>\n",
       "      <td>0.209016</td>\n",
       "    </tr>\n",
       "    <tr>\n",
       "      <th>2021-02-22</th>\n",
       "      <td>0.266616</td>\n",
       "      <td>0.334316</td>\n",
       "      <td>0.399068</td>\n",
       "    </tr>\n",
       "    <tr>\n",
       "      <th>2021-03-01</th>\n",
       "      <td>0.523600</td>\n",
       "      <td>-0.059348</td>\n",
       "      <td>0.535748</td>\n",
       "    </tr>\n",
       "    <tr>\n",
       "      <th>2021-03-08</th>\n",
       "      <td>0.207921</td>\n",
       "      <td>1.734210</td>\n",
       "      <td>-0.942131</td>\n",
       "    </tr>\n",
       "    <tr>\n",
       "      <th>2021-03-15</th>\n",
       "      <td>-0.061850</td>\n",
       "      <td>1.198260</td>\n",
       "      <td>-0.136409</td>\n",
       "    </tr>\n",
       "  </tbody>\n",
       "</table>\n",
       "<p>1498 rows × 3 columns</p>\n",
       "</div>"
      ],
      "text/plain": [
       "                  GE       PFE      SBUX\n",
       "Date                                    \n",
       "1992-07-06  0.347791  0.459594  0.192616\n",
       "1992-07-13  0.801732 -0.075572  0.273840\n",
       "1992-07-20  0.261389  0.426276  0.312335\n",
       "1992-07-27  0.964424 -0.193685  0.229261\n",
       "1992-08-03  0.369565  0.594235  0.036200\n",
       "...              ...       ...       ...\n",
       "2021-02-15  0.311077  0.479906  0.209016\n",
       "2021-02-22  0.266616  0.334316  0.399068\n",
       "2021-03-01  0.523600 -0.059348  0.535748\n",
       "2021-03-08  0.207921  1.734210 -0.942131\n",
       "2021-03-15 -0.061850  1.198260 -0.136409\n",
       "\n",
       "[1498 rows x 3 columns]"
      ]
     },
     "execution_count": 91,
     "metadata": {},
     "output_type": "execute_result"
    }
   ],
   "source": [
    "r0s\n",
    "saved_weights"
   ]
  },
  {
   "cell_type": "code",
   "execution_count": 22,
   "metadata": {},
   "outputs": [
    {
     "data": {
      "image/png": "[encoded data removed]",
      "text/plain": [
       "<Figure size 432x288 with 1 Axes>"
      ]
     },
     "metadata": {
      "needs_background": "light"
     },
     "output_type": "display_data"
    }
   ],
   "source": [
    "\n",
    "plt.plot((1+portfolio).cumprod())\n",
    "plt.plot((1+stocks).cumprod())\n",
    "plt.plot((1+equal_weights).cumprod())\n",
    "plt.yscale(\"log\")\n"
   ]
  },
  {
   "cell_type": "code",
   "execution_count": 23,
   "metadata": {},
   "outputs": [
    {
     "data": {
      "text/plain": [
       "array([0.32293086, 0.48673031, 0.73268804])"
      ]
     },
     "execution_count": 23,
     "metadata": {},
     "output_type": "execute_result"
    }
   ],
   "source": [
    "empyrical.sharpe_ratio(stocks)"
   ]
  },
  {
   "cell_type": "code",
   "execution_count": 19,
   "metadata": {},
   "outputs": [
    {
     "data": {
      "text/plain": [
       "0.7155448204172784"
      ]
     },
     "execution_count": 19,
     "metadata": {},
     "output_type": "execute_result"
    }
   ],
   "source": [
    "equal_weights = stocks.dot(np.ones(len(tickers))/(len(tickers)))\n",
    "empyrical.sharpe_ratio(equal_weights)"
   ]
  },
  {
   "cell_type": "code",
   "execution_count": 24,
   "metadata": {},
   "outputs": [
    {
     "data": {
      "text/plain": [
       "array([0.30392026])"
      ]
     },
     "execution_count": 24,
     "metadata": {},
     "output_type": "execute_result"
    }
   ],
   "source": [
    "empyrical.sharpe_ratio(portfolio.sort_index())\n"
   ]
  },
  {
   "cell_type": "code",
   "execution_count": null,
   "metadata": {},
   "outputs": [],
   "source": []
  }
 ],
 "metadata": {
  "kernelspec": {
   "display_name": "Python 3",
   "language": "python",
   "name": "python3"
  },
  "language_info": {
   "codemirror_mode": {
    "name": "ipython",
    "version": 3
   },
   "file_extension": ".py",
   "mimetype": "text/x-python",
   "name": "python",
   "nbconvert_exporter": "python",
   "pygments_lexer": "ipython3",
   "version": "3.7.6"
  }
 },
 "nbformat": 4,
 "nbformat_minor": 4
}
