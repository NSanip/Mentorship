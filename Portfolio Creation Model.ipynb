{
 "cells": [
  {
   "cell_type": "code",
   "execution_count": 58,
   "metadata": {},
   "outputs": [],
   "source": [
    "import yfinance as yf\n",
    "import numpy as np\n",
    "import matplotlib.pyplot as plt\n",
    "import pandas as pd\n",
    "import xgboost as xgb\n",
    "from sklearn.model_selection import train_test_split\n",
    "import empyrical"
   ]
  },
  {
   "cell_type": "code",
   "execution_count": 2,
   "metadata": {},
   "outputs": [],
   "source": [
    "tickers = [\"GE\", \"PFE\",\"SBUX\"]\n",
    "stocks = pd.concat([yf.Ticker(i).history(period = \"max\")[\"Close\"].pct_change().dropna().rename(i) for i in tickers], axis=1, join = 'inner')"
   ]
  },
  {
   "cell_type": "code",
   "execution_count": 16,
   "metadata": {},
   "outputs": [],
   "source": [
    "def get_weights(r0, mean, std, covar):\n",
    "   \n",
    "    #mean = [i.mean() for i in stocks]\n",
    "    #std = [i.std() for i in stocks]\n",
    "    \n",
    "    n = len(mean)\n",
    "    mean = mean.values.reshape((n,1))\n",
    "    #np.matmul(covar_inverse, covar)\n",
    "\n",
    "    ones_column = np.ones((n, 1))\n",
    "    mu_matrix = np.hstack((mean, ones_column))\n",
    "\n",
    "    returns_matrix = np.vstack((r0,np.array([[1]]))) \n",
    "\n",
    "    A = np.zeros((2, 2))\n",
    "    A[0,0] = np.matmul(np.transpose(mean), np.linalg.solve(covar.values, mean))\n",
    "    A[0,1] = np.matmul(np.transpose(mean), np.linalg.solve(covar.values, ones_column))\n",
    "    A[1,0] = np.matmul(np.transpose(mean), np.linalg.solve(covar.values, ones_column))\n",
    "    A[1,1] = np.matmul(np.transpose(ones_column), np.linalg.solve(covar.values, ones_column))\n",
    "\n",
    "    return np.linalg.solve(covar.values, np.matmul(mu_matrix, np.linalg.solve(A, returns_matrix)))\n",
    "    "
   ]
  },
  {
   "cell_type": "code",
   "execution_count": 67,
   "metadata": {},
   "outputs": [
    {
     "name": "stderr",
     "output_type": "stream",
     "text": [
      "C:\\Users\\innsu\\anaconda3\\lib\\site-packages\\pandas\\core\\frame.py:7605: RuntimeWarning: Degrees of freedom <= 0 for slice\n",
      "  baseCov = np.cov(mat.T)\n",
      "C:\\Users\\innsu\\anaconda3\\lib\\site-packages\\numpy\\lib\\function_base.py:2455: RuntimeWarning: divide by zero encountered in true_divide\n",
      "  c *= np.true_divide(1, fact)\n",
      "C:\\Users\\innsu\\anaconda3\\lib\\site-packages\\numpy\\lib\\function_base.py:2455: RuntimeWarning: invalid value encountered in multiply\n",
      "  c *= np.true_divide(1, fact)\n"
     ]
    }
   ],
   "source": [
    "X = stocks.resample(\"7d\").mean()\n",
    "dates = X.index[1:-1]\n",
    "portfolio = pd.DataFrame()\n",
    "for day in dates[:-1]:\n",
    "    sample = stocks[day:day+pd.offsets.DateOffset(days = 6)]\n",
    "    mean = sample.mean(axis=0)\n",
    "    r0 = mean.mean()\n",
    "    std = sample.std(axis=0)\n",
    "    covar = sample.cov()\n",
    "    weights_vector = get_weights(r0, mean, std, covar)\n",
    "    portfolio = pd.concat([stocks[day+pd.offsets.DateOffset(days = 7):day+pd.offsets.DateOffset(days=13)].dot(weights_vector), portfolio])\n",
    "portfolio = portfolio.sort_index()\n"
   ]
  },
  {
   "cell_type": "code",
   "execution_count": 68,
   "metadata": {},
   "outputs": [
    {
     "data": {
      "image/png": "[encoded data removed]",
      "text/plain": [
       "<Figure size 432x288 with 1 Axes>"
      ]
     },
     "metadata": {
      "needs_background": "light"
     },
     "output_type": "display_data"
    }
   ],
   "source": [
    "\n",
    "plt.plot((1+portfolio).cumprod())\n",
    "plt.plot((1+stocks).cumprod())\n",
    "plt.yscale(\"log\")\n"
   ]
  },
  {
   "cell_type": "code",
   "execution_count": 72,
   "metadata": {},
   "outputs": [
    {
     "data": {
      "text/plain": [
       "array([0.3214393 , 0.48821012, 0.73268087])"
      ]
     },
     "execution_count": 72,
     "metadata": {},
     "output_type": "execute_result"
    }
   ],
   "source": [
    "empyrical.sharpe_ratio(stocks)"
   ]
  },
  {
   "cell_type": "code",
   "execution_count": 73,
   "metadata": {},
   "outputs": [
    {
     "data": {
      "text/plain": [
       "array([0.69897587])"
      ]
     },
     "execution_count": 73,
     "metadata": {},
     "output_type": "execute_result"
    }
   ],
   "source": [
    "empyrical.sharpe_ratio(portfolio.sort_index())\n"
   ]
  },
  {
   "cell_type": "code",
   "execution_count": 35,
   "metadata": {},
   "outputs": [
    {
     "data": {
      "text/html": [
       "<div>\n",
       "<style scoped>\n",
       "    .dataframe tbody tr th:only-of-type {\n",
       "        vertical-align: middle;\n",
       "    }\n",
       "\n",
       "    .dataframe tbody tr th {\n",
       "        vertical-align: top;\n",
       "    }\n",
       "\n",
       "    .dataframe thead th {\n",
       "        text-align: right;\n",
       "    }\n",
       "</style>\n",
       "<table border=\"1\" class=\"dataframe\">\n",
       "  <thead>\n",
       "    <tr style=\"text-align: right;\">\n",
       "      <th></th>\n",
       "      <th>GE</th>\n",
       "      <th>PFE</th>\n",
       "      <th>SBUX</th>\n",
       "    </tr>\n",
       "    <tr>\n",
       "      <th>Date</th>\n",
       "      <th></th>\n",
       "      <th></th>\n",
       "      <th></th>\n",
       "    </tr>\n",
       "  </thead>\n",
       "  <tbody>\n",
       "    <tr>\n",
       "      <th>1992-07-06</th>\n",
       "      <td>0.001618</td>\n",
       "      <td>0.016584</td>\n",
       "      <td>0.000000</td>\n",
       "    </tr>\n",
       "    <tr>\n",
       "      <th>1992-07-07</th>\n",
       "      <td>-0.016155</td>\n",
       "      <td>-0.008157</td>\n",
       "      <td>0.000000</td>\n",
       "    </tr>\n",
       "    <tr>\n",
       "      <th>1992-07-08</th>\n",
       "      <td>0.011494</td>\n",
       "      <td>0.006579</td>\n",
       "      <td>-0.021979</td>\n",
       "    </tr>\n",
       "    <tr>\n",
       "      <th>1992-07-09</th>\n",
       "      <td>0.009741</td>\n",
       "      <td>0.011438</td>\n",
       "      <td>0.033708</td>\n",
       "    </tr>\n",
       "    <tr>\n",
       "      <th>1992-07-10</th>\n",
       "      <td>-0.017685</td>\n",
       "      <td>0.000000</td>\n",
       "      <td>0.010869</td>\n",
       "    </tr>\n",
       "  </tbody>\n",
       "</table>\n",
       "</div>"
      ],
      "text/plain": [
       "                  GE       PFE      SBUX\n",
       "Date                                    \n",
       "1992-07-06  0.001618  0.016584  0.000000\n",
       "1992-07-07 -0.016155 -0.008157  0.000000\n",
       "1992-07-08  0.011494  0.006579 -0.021979\n",
       "1992-07-09  0.009741  0.011438  0.033708\n",
       "1992-07-10 -0.017685  0.000000  0.010869"
      ]
     },
     "execution_count": 35,
     "metadata": {},
     "output_type": "execute_result"
    }
   ],
   "source": [
    "\n",
    "\n",
    "dates[0]\n"
   ]
  }
 ],
 "metadata": {
  "kernelspec": {
   "display_name": "Python 3",
   "language": "python",
   "name": "python3"
  },
  "language_info": {
   "codemirror_mode": {
    "name": "ipython",
    "version": 3
   },
   "file_extension": ".py",
   "mimetype": "text/x-python",
   "name": "python",
   "nbconvert_exporter": "python",
   "pygments_lexer": "ipython3",
   "version": "3.7.6"
  }
 },
 "nbformat": 4,
 "nbformat_minor": 4
}
