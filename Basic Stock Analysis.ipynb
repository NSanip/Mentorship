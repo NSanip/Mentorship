{
 "cells": [
  {
   "cell_type": "code",
   "execution_count": 1,
   "metadata": {},
   "outputs": [
    {
     "name": "stdout",
     "output_type": "stream",
     "text": [
      "Collecting PyPortfolioOpt\n",
      "  Downloading PyPortfolioOpt-1.4.1-py3-none-any.whl (56 kB)\n",
      "Collecting cvxpy<2.0.0,>=1.1.10\n",
      "  Downloading cvxpy-1.1.11-cp37-cp37m-win_amd64.whl (819 kB)\n",
      "Requirement already satisfied: scipy<2.0,>=1.3 in e:\\python\\lib\\site-packages (from PyPortfolioOpt) (1.5.2)\n",
      "Requirement already satisfied: numpy<2.0,>=1.12 in e:\\python\\lib\\site-packages (from PyPortfolioOpt) (1.19.1)\n",
      "Requirement already satisfied: pandas>=0.19 in e:\\python\\lib\\site-packages (from PyPortfolioOpt) (1.1.1)\n",
      "Collecting scs>=1.1.6\n",
      "  Downloading scs-2.1.2.tar.gz (3.5 MB)\n",
      "Collecting osqp>=0.4.1\n",
      "  Downloading osqp-0.6.2.post0-cp37-cp37m-win_amd64.whl (162 kB)\n",
      "Collecting ecos>=2\n",
      "  Downloading ecos-2.0.7.post1.tar.gz (126 kB)\n",
      "Requirement already satisfied: python-dateutil>=2.7.3 in e:\\python\\lib\\site-packages (from pandas>=0.19->PyPortfolioOpt) (2.8.1)\n",
      "Requirement already satisfied: pytz>=2017.2 in e:\\python\\lib\\site-packages (from pandas>=0.19->PyPortfolioOpt) (2020.1)\n",
      "Collecting qdldl\n",
      "  Downloading qdldl-0.1.5.post0-cp37-cp37m-win_amd64.whl (75 kB)\n",
      "Requirement already satisfied: six>=1.5 in e:\\python\\lib\\site-packages (from python-dateutil>=2.7.3->pandas>=0.19->PyPortfolioOpt) (1.15.0)\n",
      "Building wheels for collected packages: scs, ecos\n",
      "  Building wheel for scs (setup.py): started\n",
      "  Building wheel for scs (setup.py): finished with status 'error'\n",
      "  Running setup.py clean for scs\n"
     ]
    },
    {
     "name": "stderr",
     "output_type": "stream",
     "text": [
      "  ERROR: Command errored out with exit status 1:\n",
      "   command: 'E:\\Python\\python.exe' -u -c 'import sys, setuptools, tokenize; sys.argv[0] = '\"'\"'C:\\\\Users\\\\Work\\\\AppData\\\\Local\\\\Temp\\\\pip-install-lc7lrqt4\\\\scs\\\\setup.py'\"'\"'; __file__='\"'\"'C:\\\\Users\\\\Work\\\\AppData\\\\Local\\\\Temp\\\\pip-install-lc7lrqt4\\\\scs\\\\setup.py'\"'\"';f=getattr(tokenize, '\"'\"'open'\"'\"', open)(__file__);code=f.read().replace('\"'\"'\\r\\n'\"'\"', '\"'\"'\\n'\"'\"');f.close();exec(compile(code, __file__, '\"'\"'exec'\"'\"'))' bdist_wheel -d 'C:\\Users\\Work\\AppData\\Local\\Temp\\pip-wheel-0e8wjcg_'\n",
      "       cwd: C:\\Users\\Work\\AppData\\Local\\Temp\\pip-install-lc7lrqt4\\scs\\\n",
      "  Complete output (76 lines):\n",
      "  Namespace(blas64=False, extraverbose=False, float32=False, gpu=False, int32=False, scs=False)\n",
      "  running bdist_wheel\n",
      "  running build\n",
      "  running build_py\n",
      "  creating build\n",
      "  creating build\\lib.win-amd64-3.7\n",
      "  creating build\\lib.win-amd64-3.7\\scs\n",
      "  copying src\\__init__.py -> build\\lib.win-amd64-3.7\\scs\n",
      "  running build_ext\n",
      "  blas_mkl_info:\n",
      "      libraries = ['mkl_rt']\n",
      "      library_dirs = ['E:/Python\\\\Library\\\\lib']\n",
      "      define_macros = [('SCIPY_MKL_H', None), ('HAVE_CBLAS', None)]\n",
      "      include_dirs = ['E:/Python\\\\Library\\\\include']\n",
      "  blas_opt_info:\n",
      "      libraries = ['mkl_rt']\n",
      "      library_dirs = ['E:/Python\\\\Library\\\\lib']\n",
      "      define_macros = [('SCIPY_MKL_H', None), ('HAVE_CBLAS', None)]\n",
      "      include_dirs = ['E:/Python\\\\Library\\\\include']\n",
      "  lapack_mkl_info:\n",
      "      libraries = ['mkl_rt']\n",
      "      library_dirs = ['E:/Python\\\\Library\\\\lib']\n",
      "      define_macros = [('SCIPY_MKL_H', None), ('HAVE_CBLAS', None)]\n",
      "      include_dirs = ['E:/Python\\\\Library\\\\include']\n",
      "  lapack_opt_info:\n",
      "      libraries = ['mkl_rt']\n",
      "      library_dirs = ['E:/Python\\\\Library\\\\lib']\n",
      "      define_macros = [('SCIPY_MKL_H', None), ('HAVE_CBLAS', None)]\n",
      "      include_dirs = ['E:/Python\\\\Library\\\\include']\n",
      "  Could not locate executable g77\n",
      "  Could not locate executable f77\n",
      "  Could not locate executable ifort\n",
      "  Could not locate executable ifl\n",
      "  Could not locate executable f90\n",
      "  Could not locate executable DF\n",
      "  Could not locate executable efl\n",
      "  Could not locate executable gfortran\n",
      "  Could not locate executable f95\n",
      "  Could not locate executable g95\n",
      "  Could not locate executable efort\n",
      "  Could not locate executable efc\n",
      "  Could not locate executable flang\n",
      "  don't know how to compile Fortran code on platform 'nt'\n",
      "  E:\\Python\\lib\\site-packages\\numpy\\distutils\\system_info.py:1914: UserWarning:\n",
      "      Optimized (vendor) Blas libraries are not found.\n",
      "      Falls back to netlib Blas library which has worse performance.\n",
      "      A better performance should be easily gained by switching\n",
      "      Blas library.\n",
      "    if self._calc_info(blas):\n",
      "  E:\\Python\\lib\\site-packages\\numpy\\distutils\\system_info.py:1914: UserWarning:\n",
      "      Blas (http://www.netlib.org/blas/) libraries not found.\n",
      "      Directories to search for the libraries can be specified in the\n",
      "      numpy/distutils/site.cfg file (section [blas]) or by setting\n",
      "      the BLAS environment variable.\n",
      "    if self._calc_info(blas):\n",
      "  E:\\Python\\lib\\site-packages\\numpy\\distutils\\system_info.py:1914: UserWarning:\n",
      "      Blas (http://www.netlib.org/blas/) sources not found.\n",
      "      Directories to search for the sources can be specified in the\n",
      "      numpy/distutils/site.cfg file (section [blas_src]) or by setting\n",
      "      the BLAS_SRC environment variable.\n",
      "    if self._calc_info(blas):\n",
      "  E:\\Python\\lib\\site-packages\\numpy\\distutils\\system_info.py:1748: UserWarning:\n",
      "      Lapack (http://www.netlib.org/lapack/) libraries not found.\n",
      "      Directories to search for the libraries can be specified in the\n",
      "      numpy/distutils/site.cfg file (section [lapack]) or by setting\n",
      "      the LAPACK environment variable.\n",
      "    return getattr(self, '_calc_info_{}'.format(name))()\n",
      "  E:\\Python\\lib\\site-packages\\numpy\\distutils\\system_info.py:1748: UserWarning:\n",
      "      Lapack (http://www.netlib.org/lapack/) sources not found.\n",
      "      Directories to search for the sources can be specified in the\n",
      "      numpy/distutils/site.cfg file (section [lapack_src]) or by setting\n",
      "      the LAPACK_SRC environment variable.\n",
      "    return getattr(self, '_calc_info_{}'.format(name))()\n",
      "  error: Microsoft Visual C++ 14.0 is required. Get it with \"Build Tools for Visual Studio\": https://visualstudio.microsoft.com/downloads/\n",
      "  {}\n",
      "  {}\n",
      "  ----------------------------------------\n",
      "  ERROR: Failed building wheel for scs\n",
      "  ERROR: Command errored out with exit status 1:\n",
      "   command: 'E:\\Python\\python.exe' -u -c 'import sys, setuptools, tokenize; sys.argv[0] = '\"'\"'C:\\\\Users\\\\Work\\\\AppData\\\\Local\\\\Temp\\\\pip-install-lc7lrqt4\\\\ecos\\\\setup.py'\"'\"'; __file__='\"'\"'C:\\\\Users\\\\Work\\\\AppData\\\\Local\\\\Temp\\\\pip-install-lc7lrqt4\\\\ecos\\\\setup.py'\"'\"';f=getattr(tokenize, '\"'\"'open'\"'\"', open)(__file__);code=f.read().replace('\"'\"'\\r\\n'\"'\"', '\"'\"'\\n'\"'\"');f.close();exec(compile(code, __file__, '\"'\"'exec'\"'\"'))' bdist_wheel -d 'C:\\Users\\Work\\AppData\\Local\\Temp\\pip-wheel-kfowxkfa'\n",
      "       cwd: C:\\Users\\Work\\AppData\\Local\\Temp\\pip-install-lc7lrqt4\\ecos\\\n",
      "  Complete output (12 lines):\n",
      "  running bdist_wheel\n",
      "  running build\n",
      "  running build_py\n",
      "  creating build\n",
      "  creating build\\lib.win-amd64-3.7\n",
      "  creating build\\lib.win-amd64-3.7\\ecos\n",
      "  copying src\\ecos\\ecos.py -> build\\lib.win-amd64-3.7\\ecos\n",
      "  copying src\\ecos\\version.py -> build\\lib.win-amd64-3.7\\ecos\n",
      "  copying src\\ecos\\__init__.py -> build\\lib.win-amd64-3.7\\ecos\n",
      "  running build_ext\n",
      "  building '_ecos' extension\n",
      "  error: Microsoft Visual C++ 14.0 is required. Get it with \"Build Tools for Visual Studio\": https://visualstudio.microsoft.com/downloads/\n",
      "  ----------------------------------------\n",
      "  ERROR: Failed building wheel for ecos\n",
      "    ERROR: Command errored out with exit status 1:\n",
      "     command: 'E:\\Python\\python.exe' -u -c 'import sys, setuptools, tokenize; sys.argv[0] = '\"'\"'C:\\\\Users\\\\Work\\\\AppData\\\\Local\\\\Temp\\\\pip-install-lc7lrqt4\\\\scs\\\\setup.py'\"'\"'; __file__='\"'\"'C:\\\\Users\\\\Work\\\\AppData\\\\Local\\\\Temp\\\\pip-install-lc7lrqt4\\\\scs\\\\setup.py'\"'\"';f=getattr(tokenize, '\"'\"'open'\"'\"', open)(__file__);code=f.read().replace('\"'\"'\\r\\n'\"'\"', '\"'\"'\\n'\"'\"');f.close();exec(compile(code, __file__, '\"'\"'exec'\"'\"'))' install --record 'C:\\Users\\Work\\AppData\\Local\\Temp\\pip-record-uj1o75o8\\install-record.txt' --single-version-externally-managed --compile --install-headers 'E:\\Python\\Include\\scs'\n",
      "         cwd: C:\\Users\\Work\\AppData\\Local\\Temp\\pip-install-lc7lrqt4\\scs\\\n",
      "    Complete output (76 lines):\n",
      "    Namespace(blas64=False, extraverbose=False, float32=False, gpu=False, int32=False, scs=False)\n",
      "    running install\n",
      "    running build\n",
      "    running build_py\n"
     ]
    },
    {
     "name": "stdout",
     "output_type": "stream",
     "text": [
      "  Building wheel for ecos (setup.py): started\n",
      "  Building wheel for ecos (setup.py): finished with status 'error'\n",
      "  Running setup.py clean for ecos\n",
      "Failed to build scs ecos\n",
      "Installing collected packages: scs, qdldl, osqp, ecos, cvxpy, PyPortfolioOpt\n",
      "    Running setup.py install for scs: started\n",
      "    Running setup.py install for scs: finished with status 'error'\n"
     ]
    },
    {
     "name": "stderr",
     "output_type": "stream",
     "text": [
      "    creating build\n",
      "    creating build\\lib.win-amd64-3.7\n",
      "    creating build\\lib.win-amd64-3.7\\scs\n",
      "    copying src\\__init__.py -> build\\lib.win-amd64-3.7\\scs\n",
      "    running build_ext\n",
      "    blas_mkl_info:\n",
      "        libraries = ['mkl_rt']\n",
      "        library_dirs = ['E:/Python\\\\Library\\\\lib']\n",
      "        define_macros = [('SCIPY_MKL_H', None), ('HAVE_CBLAS', None)]\n",
      "        include_dirs = ['E:/Python\\\\Library\\\\include']\n",
      "    blas_opt_info:\n",
      "        libraries = ['mkl_rt']\n",
      "        library_dirs = ['E:/Python\\\\Library\\\\lib']\n",
      "        define_macros = [('SCIPY_MKL_H', None), ('HAVE_CBLAS', None)]\n",
      "        include_dirs = ['E:/Python\\\\Library\\\\include']\n",
      "    lapack_mkl_info:\n",
      "        libraries = ['mkl_rt']\n",
      "        library_dirs = ['E:/Python\\\\Library\\\\lib']\n",
      "        define_macros = [('SCIPY_MKL_H', None), ('HAVE_CBLAS', None)]\n",
      "        include_dirs = ['E:/Python\\\\Library\\\\include']\n",
      "    lapack_opt_info:\n",
      "        libraries = ['mkl_rt']\n",
      "        library_dirs = ['E:/Python\\\\Library\\\\lib']\n",
      "        define_macros = [('SCIPY_MKL_H', None), ('HAVE_CBLAS', None)]\n",
      "        include_dirs = ['E:/Python\\\\Library\\\\include']\n",
      "    Could not locate executable g77\n",
      "    Could not locate executable f77\n",
      "    Could not locate executable ifort\n",
      "    Could not locate executable ifl\n",
      "    Could not locate executable f90\n",
      "    Could not locate executable DF\n",
      "    Could not locate executable efl\n",
      "    Could not locate executable gfortran\n",
      "    Could not locate executable f95\n",
      "    Could not locate executable g95\n",
      "    Could not locate executable efort\n",
      "    Could not locate executable efc\n",
      "    Could not locate executable flang\n",
      "    don't know how to compile Fortran code on platform 'nt'\n",
      "    E:\\Python\\lib\\site-packages\\numpy\\distutils\\system_info.py:1914: UserWarning:\n",
      "        Optimized (vendor) Blas libraries are not found.\n",
      "        Falls back to netlib Blas library which has worse performance.\n",
      "        A better performance should be easily gained by switching\n",
      "        Blas library.\n",
      "      if self._calc_info(blas):\n",
      "    E:\\Python\\lib\\site-packages\\numpy\\distutils\\system_info.py:1914: UserWarning:\n",
      "        Blas (http://www.netlib.org/blas/) libraries not found.\n",
      "        Directories to search for the libraries can be specified in the\n",
      "        numpy/distutils/site.cfg file (section [blas]) or by setting\n",
      "        the BLAS environment variable.\n",
      "      if self._calc_info(blas):\n",
      "    E:\\Python\\lib\\site-packages\\numpy\\distutils\\system_info.py:1914: UserWarning:\n",
      "        Blas (http://www.netlib.org/blas/) sources not found.\n",
      "        Directories to search for the sources can be specified in the\n",
      "        numpy/distutils/site.cfg file (section [blas_src]) or by setting\n",
      "        the BLAS_SRC environment variable.\n",
      "      if self._calc_info(blas):\n",
      "    E:\\Python\\lib\\site-packages\\numpy\\distutils\\system_info.py:1748: UserWarning:\n",
      "        Lapack (http://www.netlib.org/lapack/) libraries not found.\n",
      "        Directories to search for the libraries can be specified in the\n",
      "        numpy/distutils/site.cfg file (section [lapack]) or by setting\n",
      "        the LAPACK environment variable.\n",
      "      return getattr(self, '_calc_info_{}'.format(name))()\n",
      "    E:\\Python\\lib\\site-packages\\numpy\\distutils\\system_info.py:1748: UserWarning:\n",
      "        Lapack (http://www.netlib.org/lapack/) sources not found.\n",
      "        Directories to search for the sources can be specified in the\n",
      "        numpy/distutils/site.cfg file (section [lapack_src]) or by setting\n",
      "        the LAPACK_SRC environment variable.\n",
      "      return getattr(self, '_calc_info_{}'.format(name))()\n",
      "    error: Microsoft Visual C++ 14.0 is required. Get it with \"Build Tools for Visual Studio\": https://visualstudio.microsoft.com/downloads/\n",
      "    {}\n",
      "    {}\n",
      "    ----------------------------------------\n",
      "ERROR: Command errored out with exit status 1: 'E:\\Python\\python.exe' -u -c 'import sys, setuptools, tokenize; sys.argv[0] = '\"'\"'C:\\\\Users\\\\Work\\\\AppData\\\\Local\\\\Temp\\\\pip-install-lc7lrqt4\\\\scs\\\\setup.py'\"'\"'; __file__='\"'\"'C:\\\\Users\\\\Work\\\\AppData\\\\Local\\\\Temp\\\\pip-install-lc7lrqt4\\\\scs\\\\setup.py'\"'\"';f=getattr(tokenize, '\"'\"'open'\"'\"', open)(__file__);code=f.read().replace('\"'\"'\\r\\n'\"'\"', '\"'\"'\\n'\"'\"');f.close();exec(compile(code, __file__, '\"'\"'exec'\"'\"'))' install --record 'C:\\Users\\Work\\AppData\\Local\\Temp\\pip-record-uj1o75o8\\install-record.txt' --single-version-externally-managed --compile --install-headers 'E:\\Python\\Include\\scs' Check the logs for full command output.\n"
     ]
    }
   ],
   "source": [
    "import yfinance as yf\n",
    "import numpy as np\n",
    "import matplotlib.pyplot as plt\n",
    "import pandas as pd\n",
    "import xgboost as xgb\n",
    "from sklearn.model_selection import train_test_split\n"
   ]
  },
  {
   "cell_type": "code",
   "execution_count": 2,
   "metadata": {},
   "outputs": [
    {
     "name": "stdout",
     "output_type": "stream",
     "text": [
      "Collecting PyPortfolioOpt\n",
      "  Using cached PyPortfolioOpt-1.4.1-py3-none-any.whl (56 kB)\n",
      "Collecting cvxpy<2.0.0,>=1.1.10\n",
      "  Using cached cvxpy-1.1.11-cp37-cp37m-win_amd64.whl (819 kB)\n",
      "Requirement already satisfied: numpy<2.0,>=1.12 in e:\\python\\lib\\site-packages (from PyPortfolioOpt) (1.19.1)\n",
      "Requirement already satisfied: scipy<2.0,>=1.3 in e:\\python\\lib\\site-packages (from PyPortfolioOpt) (1.5.2)\n",
      "Requirement already satisfied: pandas>=0.19 in e:\\python\\lib\\site-packages (from PyPortfolioOpt) (1.1.1)\n",
      "Collecting scs>=1.1.6\n",
      "  Using cached scs-2.1.2.tar.gz (3.5 MB)\n",
      "Collecting osqp>=0.4.1\n",
      "  Using cached osqp-0.6.2.post0-cp37-cp37m-win_amd64.whl (162 kB)\n",
      "Collecting ecos>=2\n",
      "  Using cached ecos-2.0.7.post1.tar.gz (126 kB)\n",
      "Requirement already satisfied: pytz>=2017.2 in e:\\python\\lib\\site-packages (from pandas>=0.19->PyPortfolioOpt) (2020.1)\n",
      "Requirement already satisfied: python-dateutil>=2.7.3 in e:\\python\\lib\\site-packages (from pandas>=0.19->PyPortfolioOpt) (2.8.1)\n",
      "Collecting qdldl\n",
      "  Using cached qdldl-0.1.5.post0-cp37-cp37m-win_amd64.whl (75 kB)\n",
      "Requirement already satisfied: six>=1.5 in e:\\python\\lib\\site-packages (from python-dateutil>=2.7.3->pandas>=0.19->PyPortfolioOpt) (1.15.0)\n",
      "Building wheels for collected packages: scs, ecos\n",
      "  Building wheel for scs (setup.py): started\n",
      "  Building wheel for scs (setup.py): finished with status 'error'\n",
      "  Running setup.py clean for scs\n",
      "  Building wheel for ecos (setup.py): started\n",
      "  Building wheel for ecos (setup.py): finished with status 'error'\n",
      "  Running setup.py clean for ecos\n",
      "Failed to build scs ecos\n",
      "Installing collected packages: scs, qdldl, osqp, ecos, cvxpy, PyPortfolioOpt\n",
      "    Running setup.py install for scs: started\n",
      "    Running setup.py install for scs: finished with status 'error'\n"
     ]
    },
    {
     "name": "stderr",
     "output_type": "stream",
     "text": [
      "  ERROR: Command errored out with exit status 1:\n",
      "   command: 'E:\\Python\\python.exe' -u -c 'import sys, setuptools, tokenize; sys.argv[0] = '\"'\"'C:\\\\Users\\\\Work\\\\AppData\\\\Local\\\\Temp\\\\pip-install-e9ao3i1g\\\\scs\\\\setup.py'\"'\"'; __file__='\"'\"'C:\\\\Users\\\\Work\\\\AppData\\\\Local\\\\Temp\\\\pip-install-e9ao3i1g\\\\scs\\\\setup.py'\"'\"';f=getattr(tokenize, '\"'\"'open'\"'\"', open)(__file__);code=f.read().replace('\"'\"'\\r\\n'\"'\"', '\"'\"'\\n'\"'\"');f.close();exec(compile(code, __file__, '\"'\"'exec'\"'\"'))' bdist_wheel -d 'C:\\Users\\Work\\AppData\\Local\\Temp\\pip-wheel-q67pdq_d'\n",
      "       cwd: C:\\Users\\Work\\AppData\\Local\\Temp\\pip-install-e9ao3i1g\\scs\\\n",
      "  Complete output (76 lines):\n",
      "  Namespace(blas64=False, extraverbose=False, float32=False, gpu=False, int32=False, scs=False)\n",
      "  running bdist_wheel\n",
      "  running build\n",
      "  running build_py\n",
      "  creating build\n",
      "  creating build\\lib.win-amd64-3.7\n",
      "  creating build\\lib.win-amd64-3.7\\scs\n",
      "  copying src\\__init__.py -> build\\lib.win-amd64-3.7\\scs\n",
      "  running build_ext\n",
      "  blas_mkl_info:\n",
      "      libraries = ['mkl_rt']\n",
      "      library_dirs = ['E:/Python\\\\Library\\\\lib']\n",
      "      define_macros = [('SCIPY_MKL_H', None), ('HAVE_CBLAS', None)]\n",
      "      include_dirs = ['E:/Python\\\\Library\\\\include']\n",
      "  blas_opt_info:\n",
      "      libraries = ['mkl_rt']\n",
      "      library_dirs = ['E:/Python\\\\Library\\\\lib']\n",
      "      define_macros = [('SCIPY_MKL_H', None), ('HAVE_CBLAS', None)]\n",
      "      include_dirs = ['E:/Python\\\\Library\\\\include']\n",
      "  lapack_mkl_info:\n",
      "      libraries = ['mkl_rt']\n",
      "      library_dirs = ['E:/Python\\\\Library\\\\lib']\n",
      "      define_macros = [('SCIPY_MKL_H', None), ('HAVE_CBLAS', None)]\n",
      "      include_dirs = ['E:/Python\\\\Library\\\\include']\n",
      "  lapack_opt_info:\n",
      "      libraries = ['mkl_rt']\n",
      "      library_dirs = ['E:/Python\\\\Library\\\\lib']\n",
      "      define_macros = [('SCIPY_MKL_H', None), ('HAVE_CBLAS', None)]\n",
      "      include_dirs = ['E:/Python\\\\Library\\\\include']\n",
      "  Could not locate executable g77\n",
      "  Could not locate executable f77\n",
      "  Could not locate executable ifort\n",
      "  Could not locate executable ifl\n",
      "  Could not locate executable f90\n",
      "  Could not locate executable DF\n",
      "  Could not locate executable efl\n",
      "  Could not locate executable gfortran\n",
      "  Could not locate executable f95\n",
      "  Could not locate executable g95\n",
      "  Could not locate executable efort\n",
      "  Could not locate executable efc\n",
      "  Could not locate executable flang\n",
      "  don't know how to compile Fortran code on platform 'nt'\n",
      "  E:\\Python\\lib\\site-packages\\numpy\\distutils\\system_info.py:1914: UserWarning:\n",
      "      Optimized (vendor) Blas libraries are not found.\n",
      "      Falls back to netlib Blas library which has worse performance.\n",
      "      A better performance should be easily gained by switching\n",
      "      Blas library.\n",
      "    if self._calc_info(blas):\n",
      "  E:\\Python\\lib\\site-packages\\numpy\\distutils\\system_info.py:1914: UserWarning:\n",
      "      Blas (http://www.netlib.org/blas/) libraries not found.\n",
      "      Directories to search for the libraries can be specified in the\n",
      "      numpy/distutils/site.cfg file (section [blas]) or by setting\n",
      "      the BLAS environment variable.\n",
      "    if self._calc_info(blas):\n",
      "  E:\\Python\\lib\\site-packages\\numpy\\distutils\\system_info.py:1914: UserWarning:\n",
      "      Blas (http://www.netlib.org/blas/) sources not found.\n",
      "      Directories to search for the sources can be specified in the\n",
      "      numpy/distutils/site.cfg file (section [blas_src]) or by setting\n",
      "      the BLAS_SRC environment variable.\n",
      "    if self._calc_info(blas):\n",
      "  E:\\Python\\lib\\site-packages\\numpy\\distutils\\system_info.py:1748: UserWarning:\n",
      "      Lapack (http://www.netlib.org/lapack/) libraries not found.\n",
      "      Directories to search for the libraries can be specified in the\n",
      "      numpy/distutils/site.cfg file (section [lapack]) or by setting\n",
      "      the LAPACK environment variable.\n",
      "    return getattr(self, '_calc_info_{}'.format(name))()\n",
      "  E:\\Python\\lib\\site-packages\\numpy\\distutils\\system_info.py:1748: UserWarning:\n",
      "      Lapack (http://www.netlib.org/lapack/) sources not found.\n",
      "      Directories to search for the sources can be specified in the\n",
      "      numpy/distutils/site.cfg file (section [lapack_src]) or by setting\n",
      "      the LAPACK_SRC environment variable.\n",
      "    return getattr(self, '_calc_info_{}'.format(name))()\n",
      "  error: Microsoft Visual C++ 14.0 is required. Get it with \"Build Tools for Visual Studio\": https://visualstudio.microsoft.com/downloads/\n",
      "  {}\n",
      "  {}\n",
      "  ----------------------------------------\n",
      "  ERROR: Failed building wheel for scs\n",
      "  ERROR: Command errored out with exit status 1:\n",
      "   command: 'E:\\Python\\python.exe' -u -c 'import sys, setuptools, tokenize; sys.argv[0] = '\"'\"'C:\\\\Users\\\\Work\\\\AppData\\\\Local\\\\Temp\\\\pip-install-e9ao3i1g\\\\ecos\\\\setup.py'\"'\"'; __file__='\"'\"'C:\\\\Users\\\\Work\\\\AppData\\\\Local\\\\Temp\\\\pip-install-e9ao3i1g\\\\ecos\\\\setup.py'\"'\"';f=getattr(tokenize, '\"'\"'open'\"'\"', open)(__file__);code=f.read().replace('\"'\"'\\r\\n'\"'\"', '\"'\"'\\n'\"'\"');f.close();exec(compile(code, __file__, '\"'\"'exec'\"'\"'))' bdist_wheel -d 'C:\\Users\\Work\\AppData\\Local\\Temp\\pip-wheel-7pc2ykfh'\n",
      "       cwd: C:\\Users\\Work\\AppData\\Local\\Temp\\pip-install-e9ao3i1g\\ecos\\\n",
      "  Complete output (12 lines):\n",
      "  running bdist_wheel\n",
      "  running build\n",
      "  running build_py\n",
      "  creating build\n",
      "  creating build\\lib.win-amd64-3.7\n",
      "  creating build\\lib.win-amd64-3.7\\ecos\n",
      "  copying src\\ecos\\ecos.py -> build\\lib.win-amd64-3.7\\ecos\n",
      "  copying src\\ecos\\version.py -> build\\lib.win-amd64-3.7\\ecos\n",
      "  copying src\\ecos\\__init__.py -> build\\lib.win-amd64-3.7\\ecos\n",
      "  running build_ext\n",
      "  building '_ecos' extension\n",
      "  error: Microsoft Visual C++ 14.0 is required. Get it with \"Build Tools for Visual Studio\": https://visualstudio.microsoft.com/downloads/\n",
      "  ----------------------------------------\n",
      "  ERROR: Failed building wheel for ecos\n",
      "    ERROR: Command errored out with exit status 1:\n",
      "     command: 'E:\\Python\\python.exe' -u -c 'import sys, setuptools, tokenize; sys.argv[0] = '\"'\"'C:\\\\Users\\\\Work\\\\AppData\\\\Local\\\\Temp\\\\pip-install-e9ao3i1g\\\\scs\\\\setup.py'\"'\"'; __file__='\"'\"'C:\\\\Users\\\\Work\\\\AppData\\\\Local\\\\Temp\\\\pip-install-e9ao3i1g\\\\scs\\\\setup.py'\"'\"';f=getattr(tokenize, '\"'\"'open'\"'\"', open)(__file__);code=f.read().replace('\"'\"'\\r\\n'\"'\"', '\"'\"'\\n'\"'\"');f.close();exec(compile(code, __file__, '\"'\"'exec'\"'\"'))' install --record 'C:\\Users\\Work\\AppData\\Local\\Temp\\pip-record-lr_inls9\\install-record.txt' --single-version-externally-managed --compile --install-headers 'E:\\Python\\Include\\scs'\n",
      "         cwd: C:\\Users\\Work\\AppData\\Local\\Temp\\pip-install-e9ao3i1g\\scs\\\n",
      "    Complete output (76 lines):\n",
      "    Namespace(blas64=False, extraverbose=False, float32=False, gpu=False, int32=False, scs=False)\n",
      "    running install\n",
      "    running build\n",
      "    running build_py\n",
      "    creating build\n",
      "    creating build\\lib.win-amd64-3.7\n",
      "    creating build\\lib.win-amd64-3.7\\scs\n",
      "    copying src\\__init__.py -> build\\lib.win-amd64-3.7\\scs\n",
      "    running build_ext\n",
      "    blas_mkl_info:\n",
      "        libraries = ['mkl_rt']\n",
      "        library_dirs = ['E:/Python\\\\Library\\\\lib']\n",
      "        define_macros = [('SCIPY_MKL_H', None), ('HAVE_CBLAS', None)]\n",
      "        include_dirs = ['E:/Python\\\\Library\\\\include']\n",
      "    blas_opt_info:\n",
      "        libraries = ['mkl_rt']\n",
      "        library_dirs = ['E:/Python\\\\Library\\\\lib']\n",
      "        define_macros = [('SCIPY_MKL_H', None), ('HAVE_CBLAS', None)]\n",
      "        include_dirs = ['E:/Python\\\\Library\\\\include']\n",
      "    lapack_mkl_info:\n",
      "        libraries = ['mkl_rt']\n",
      "        library_dirs = ['E:/Python\\\\Library\\\\lib']\n",
      "        define_macros = [('SCIPY_MKL_H', None), ('HAVE_CBLAS', None)]\n",
      "        include_dirs = ['E:/Python\\\\Library\\\\include']\n",
      "    lapack_opt_info:\n",
      "        libraries = ['mkl_rt']\n",
      "        library_dirs = ['E:/Python\\\\Library\\\\lib']\n",
      "        define_macros = [('SCIPY_MKL_H', None), ('HAVE_CBLAS', None)]\n",
      "        include_dirs = ['E:/Python\\\\Library\\\\include']\n",
      "    Could not locate executable g77\n",
      "    Could not locate executable f77\n",
      "    Could not locate executable ifort\n",
      "    Could not locate executable ifl\n",
      "    Could not locate executable f90\n",
      "    Could not locate executable DF\n",
      "    Could not locate executable efl\n",
      "    Could not locate executable gfortran\n",
      "    Could not locate executable f95\n",
      "    Could not locate executable g95\n",
      "    Could not locate executable efort\n",
      "    Could not locate executable efc\n",
      "    Could not locate executable flang\n",
      "    don't know how to compile Fortran code on platform 'nt'\n",
      "    E:\\Python\\lib\\site-packages\\numpy\\distutils\\system_info.py:1914: UserWarning:\n",
      "        Optimized (vendor) Blas libraries are not found.\n",
      "        Falls back to netlib Blas library which has worse performance.\n",
      "        A better performance should be easily gained by switching\n",
      "        Blas library.\n",
      "      if self._calc_info(blas):\n",
      "    E:\\Python\\lib\\site-packages\\numpy\\distutils\\system_info.py:1914: UserWarning:\n",
      "        Blas (http://www.netlib.org/blas/) libraries not found.\n",
      "        Directories to search for the libraries can be specified in the\n",
      "        numpy/distutils/site.cfg file (section [blas]) or by setting\n",
      "        the BLAS environment variable.\n",
      "      if self._calc_info(blas):\n",
      "    E:\\Python\\lib\\site-packages\\numpy\\distutils\\system_info.py:1914: UserWarning:\n",
      "        Blas (http://www.netlib.org/blas/) sources not found.\n",
      "        Directories to search for the sources can be specified in the\n",
      "        numpy/distutils/site.cfg file (section [blas_src]) or by setting\n",
      "        the BLAS_SRC environment variable.\n",
      "      if self._calc_info(blas):\n",
      "    E:\\Python\\lib\\site-packages\\numpy\\distutils\\system_info.py:1748: UserWarning:\n",
      "        Lapack (http://www.netlib.org/lapack/) libraries not found.\n",
      "        Directories to search for the libraries can be specified in the\n",
      "        numpy/distutils/site.cfg file (section [lapack]) or by setting\n",
      "        the LAPACK environment variable.\n",
      "      return getattr(self, '_calc_info_{}'.format(name))()\n",
      "    E:\\Python\\lib\\site-packages\\numpy\\distutils\\system_info.py:1748: UserWarning:\n",
      "        Lapack (http://www.netlib.org/lapack/) sources not found.\n",
      "        Directories to search for the sources can be specified in the\n",
      "        numpy/distutils/site.cfg file (section [lapack_src]) or by setting\n",
      "        the LAPACK_SRC environment variable.\n",
      "      return getattr(self, '_calc_info_{}'.format(name))()\n",
      "    error: Microsoft Visual C++ 14.0 is required. Get it with \"Build Tools for Visual Studio\": https://visualstudio.microsoft.com/downloads/\n",
      "    {}\n",
      "    {}\n",
      "    ----------------------------------------\n",
      "ERROR: Command errored out with exit status 1: 'E:\\Python\\python.exe' -u -c 'import sys, setuptools, tokenize; sys.argv[0] = '\"'\"'C:\\\\Users\\\\Work\\\\AppData\\\\Local\\\\Temp\\\\pip-install-e9ao3i1g\\\\scs\\\\setup.py'\"'\"'; __file__='\"'\"'C:\\\\Users\\\\Work\\\\AppData\\\\Local\\\\Temp\\\\pip-install-e9ao3i1g\\\\scs\\\\setup.py'\"'\"';f=getattr(tokenize, '\"'\"'open'\"'\"', open)(__file__);code=f.read().replace('\"'\"'\\r\\n'\"'\"', '\"'\"'\\n'\"'\"');f.close();exec(compile(code, __file__, '\"'\"'exec'\"'\"'))' install --record 'C:\\Users\\Work\\AppData\\Local\\Temp\\pip-record-lr_inls9\\install-record.txt' --single-version-externally-managed --compile --install-headers 'E:\\Python\\Include\\scs' Check the logs for full command output.\n"
     ]
    }
   ],
   "source": [
    "!pip install PyPortfolioOpt"
   ]
  },
  {
   "cell_type": "code",
   "execution_count": 3,
   "metadata": {},
   "outputs": [],
   "source": [
    "tickers = [\"GE\", \"PFE\",\"SBUX\"]\n",
    "stocks = pd.concat([yf.Ticker(i).history(period = \"max\")[\"Close\"].pct_change().dropna().rename(i) for i in tickers], axis=1, join = 'inner')"
   ]
  },
  {
   "cell_type": "code",
   "execution_count": 4,
   "metadata": {},
   "outputs": [
    {
     "data": {
      "text/plain": [
       "<AxesSubplot:xlabel='Date'>"
      ]
     },
     "execution_count": 4,
     "metadata": {},
     "output_type": "execute_result"
    },
    {
     "data": {
      "image/png": "[encoded data removed]",
      "text/plain": [
       "<Figure size 432x288 with 1 Axes>"
      ]
     },
     "metadata": {
      "needs_background": "light"
     },
     "output_type": "display_data"
    }
   ],
   "source": [
    "(1+stocks[\"GE\"]).cumprod().plot()\n"
   ]
  },
  {
   "cell_type": "code",
   "execution_count": 5,
   "metadata": {},
   "outputs": [],
   "source": [
    "\n",
    "def get_weights(data, mean, std, covar):\n",
    "    \n",
    "\n",
    "    #mean = [i.mean() for i in stocks]\n",
    "    #std = [i.std() for i in stocks]\n",
    "    \n",
    "    n = data.count()\n",
    "    r0 = mean[1] #r-naught for calculation \n",
    "    covar_inverse = np.linalg.inv(covar.values)\n",
    "    #np.matmul(covar_inverse, covar)\n",
    "\n",
    "    ones_column = np.ones((len(data.columns), 1))\n",
    "    mu_matrix = np.hstack((mean, ones_column))\n",
    "\n",
    "    returns_matrix = np.vstack((r0,np.array([[1]]))) \n",
    "\n",
    "    A = np.zeros((2, 2))\n",
    "    A[0,0] = np.matmul(np.transpose(mean), np.linalg.solve(covar.values, mean))\n",
    "    A[0,1] = np.matmul(np.transpose(mean), np.linalg.solve(covar.values, ones_column))\n",
    "    A[1,0] = np.matmul(np.transpose(mean), np.linalg.solve(covar.values, ones_column))\n",
    "    A[1,1] = np.matmul(np.transpose(ones_column), np.linalg.solve(covar.values, ones_column))\n",
    "\n",
    "    return np.linalg.solve(covar.values, np.matmul(mu_matrix, np.linalg.solve(A, returns_matrix)))\n",
    "    "
   ]
  },
  {
   "cell_type": "code",
   "execution_count": 6,
   "metadata": {},
   "outputs": [
    {
     "data": {
      "text/plain": [
       "<matplotlib.legend.Legend at 0x1d1adc53348>"
      ]
     },
     "execution_count": 6,
     "metadata": {},
     "output_type": "execute_result"
    },
    {
     "data": {
      "image/png": "[encoded data removed]",
      "text/plain": [
       "<Figure size 432x288 with 1 Axes>"
      ]
     },
     "metadata": {
      "needs_background": "light"
     },
     "output_type": "display_data"
    }
   ],
   "source": [
    "mean = stocks.mean(axis=0).values.reshape((len(tickers), 1))\n",
    "std = stocks.std(axis=0)\n",
    "covar = stocks.cov()\n",
    "weight_vector = get_weights(stocks, mean, std, covar)\n",
    "portfolio_ps = stocks.dot(weight_vector)\n",
    "plt.figure()\n",
    "plt.plot((1+portfolio_ps).cumprod(), label=\"Portfolio\")\n",
    "for ticker in stocks:\n",
    "    plt.plot((1+stocks[ticker]).cumprod(), label=ticker)\n",
    "plt.yscale(\"log\")\n",
    "plt.legend()"
   ]
  },
  {
   "cell_type": "code",
   "execution_count": 7,
   "metadata": {},
   "outputs": [
    {
     "data": {
      "text/plain": [
       "array([[0.36258554],\n",
       "       [0.56904219],\n",
       "       [0.06837228]])"
      ]
     },
     "execution_count": 7,
     "metadata": {},
     "output_type": "execute_result"
    }
   ],
   "source": [
    "weight_vector"
   ]
  },
  {
   "cell_type": "code",
   "execution_count": 8,
   "metadata": {},
   "outputs": [
    {
     "data": {
      "text/plain": [
       "0    0.014577\n",
       "dtype: float64"
      ]
     },
     "execution_count": 8,
     "metadata": {},
     "output_type": "execute_result"
    }
   ],
   "source": [
    "stocks.dot(weight_vector).mean()\n",
    "stocks.dot(weight_vector).std()"
   ]
  },
  {
   "cell_type": "code",
   "execution_count": 9,
   "metadata": {},
   "outputs": [
    {
     "data": {
      "text/plain": [
       "0.016762247763443757"
      ]
     },
     "execution_count": 9,
     "metadata": {},
     "output_type": "execute_result"
    }
   ],
   "source": [
    "stocks[\"PFE\"].mean()\n",
    "stocks[\"PFE\"].std()"
   ]
  },
  {
   "cell_type": "code",
   "execution_count": 10,
   "metadata": {},
   "outputs": [
    {
     "ename": "NameError",
     "evalue": "name 'n' is not defined",
     "output_type": "error",
     "traceback": [
      "\u001b[1;31m---------------------------------------------------------------------------\u001b[0m",
      "\u001b[1;31mNameError\u001b[0m                                 Traceback (most recent call last)",
      "\u001b[1;32m<ipython-input-10-f0ffb44274df>\u001b[0m in \u001b[0;36m<module>\u001b[1;34m\u001b[0m\n\u001b[1;32m----> 1\u001b[1;33m \u001b[1;33m[\u001b[0m\u001b[0mstock_samples\u001b[0m\u001b[1;33m]\u001b[0m \u001b[1;33m=\u001b[0m \u001b[0mnp\u001b[0m\u001b[1;33m.\u001b[0m\u001b[0mrandom\u001b[0m\u001b[1;33m.\u001b[0m\u001b[0mnormal\u001b[0m\u001b[1;33m(\u001b[0m\u001b[1;33m(\u001b[0m\u001b[0mi\u001b[0m \u001b[1;32mfor\u001b[0m \u001b[0mi\u001b[0m \u001b[1;32min\u001b[0m \u001b[0mmean\u001b[0m\u001b[1;33m)\u001b[0m\u001b[1;33m,\u001b[0m \u001b[0mstd\u001b[0m\u001b[1;33m,\u001b[0m \u001b[0mn\u001b[0m\u001b[1;33m)\u001b[0m\u001b[1;33m\u001b[0m\u001b[1;33m\u001b[0m\u001b[0m\n\u001b[0m\u001b[0;32m      2\u001b[0m \u001b[0mhistograms\u001b[0m \u001b[1;33m=\u001b[0m \u001b[1;33m[\u001b[0m\u001b[0mi\u001b[0m\u001b[1;33m.\u001b[0m\u001b[0mhist\u001b[0m\u001b[1;33m(\u001b[0m\u001b[0mbins\u001b[0m\u001b[1;33m=\u001b[0m\u001b[1;36m100\u001b[0m\u001b[1;33m,\u001b[0m \u001b[0mdensity\u001b[0m\u001b[1;33m=\u001b[0m\u001b[1;32mTrue\u001b[0m\u001b[1;33m,\u001b[0m \u001b[0maxis\u001b[0m \u001b[1;33m=\u001b[0m \u001b[1;36m1\u001b[0m\u001b[1;33m)\u001b[0m \u001b[1;32mfor\u001b[0m \u001b[0mi\u001b[0m \u001b[1;32min\u001b[0m \u001b[0mstocks\u001b[0m\u001b[1;33m]\u001b[0m\u001b[1;33m\u001b[0m\u001b[1;33m\u001b[0m\u001b[0m\n\u001b[0;32m      3\u001b[0m \u001b[0mstd_histograms\u001b[0m \u001b[1;33m=\u001b[0m \u001b[0mplt\u001b[0m\u001b[1;33m.\u001b[0m\u001b[0mhist\u001b[0m\u001b[1;33m(\u001b[0m\u001b[0msamples\u001b[0m\u001b[1;33m,\u001b[0m \u001b[0mbins\u001b[0m\u001b[1;33m=\u001b[0m\u001b[1;36m100\u001b[0m\u001b[1;33m,\u001b[0m \u001b[0mdensity\u001b[0m\u001b[1;33m=\u001b[0m\u001b[1;32mTrue\u001b[0m\u001b[1;33m,\u001b[0m \u001b[0malpha\u001b[0m \u001b[1;33m=\u001b[0m \u001b[1;36m0.5\u001b[0m\u001b[1;33m)\u001b[0m\u001b[1;33m\u001b[0m\u001b[1;33m\u001b[0m\u001b[0m\n\u001b[0;32m      4\u001b[0m \u001b[0mplt\u001b[0m\u001b[1;33m.\u001b[0m\u001b[0myscale\u001b[0m\u001b[1;33m(\u001b[0m\u001b[1;34m'log'\u001b[0m\u001b[1;33m)\u001b[0m\u001b[1;33m\u001b[0m\u001b[1;33m\u001b[0m\u001b[0m\n",
      "\u001b[1;31mNameError\u001b[0m: name 'n' is not defined"
     ]
    }
   ],
   "source": [
    "[stock_samples] = np.random.normal((i for i in mean), std, n)\n",
    "histograms = [i.hist(bins=100, density=True, axis = 1) for i in stocks]\n",
    "std_histograms = plt.hist(samples, bins=100, density=True, alpha = 0.5)\n",
    "plt.yscale('log')"
   ]
  },
  {
   "cell_type": "code",
   "execution_count": 11,
   "metadata": {},
   "outputs": [
    {
     "data": {
      "text/plain": [
       "<matplotlib.collections.PathCollection at 0x1d1ae27db08>"
      ]
     },
     "execution_count": 11,
     "metadata": {},
     "output_type": "execute_result"
    },
    {
     "data": {
      "image/png": "[encoded data removed]",
      "text/plain": [
       "<Figure size 432x288 with 1 Axes>"
      ]
     },
     "metadata": {
      "needs_background": "light"
     },
     "output_type": "display_data"
    }
   ],
   "source": [
    "def get_random_weights():\n",
    "    random = np.random.random(2)     \n",
    "    return np.diff(np.concatenate(([0], sorted(random),[1])))\n",
    "\n",
    "random_weights = [get_random_weights() for i in range(10000)]\n",
    "means = [stocks.dot(weight).mean() for weight in random_weights]\n",
    "stds = [stocks.dot(weight).std() for weight in random_weights]\n",
    "plt.scatter(stds, means)"
   ]
  },
  {
   "cell_type": "code",
   "execution_count": null,
   "metadata": {},
   "outputs": [],
   "source": [
    "stocks.mean()"
   ]
  },
  {
   "cell_type": "code",
   "execution_count": null,
   "metadata": {},
   "outputs": [],
   "source": [
    "stocks.resample(\"7D\").std().plot()"
   ]
  },
  {
   "cell_type": "code",
   "execution_count": null,
   "metadata": {},
   "outputs": [],
   "source": [
    "plt.scatter(stocks[\"GE\"].shift(1).dropna(), stocks[\"GE\"].iloc[1:])"
   ]
  },
  {
   "cell_type": "code",
   "execution_count": null,
   "metadata": {},
   "outputs": [],
   "source": [
    "plt.scatter(stocks[\"GE\"].rolling(\"7d\").std().shift(1).dropna(), stocks[\"GE\"].rolling(\"7d\").std().dropna().iloc[1:])"
   ]
  },
  {
   "cell_type": "code",
   "execution_count": null,
   "metadata": {},
   "outputs": [],
   "source": [
    "X = stocks[\"GE\"].resample(\"7d\").std().shift(1).dropna().iloc[:-1]\n",
    "Y = stocks[\"GE\"].resample(\"7d\").std().dropna().iloc[1:]\n",
    "train_X, test_X, train_Y, test_Y = train_test_split(X, Y, test_size = 0.3, train_size = 0.7)\n",
    "X"
   ]
  },
  {
   "cell_type": "code",
   "execution_count": null,
   "metadata": {},
   "outputs": [],
   "source": [
    "plt.scatter(X,Y)"
   ]
  },
  {
   "cell_type": "code",
   "execution_count": null,
   "metadata": {},
   "outputs": [],
   "source": [
    "xgb_instance = xgb.XGBRegressor(objective = 'reg:linear', n_estimators = 100000, learning_rate = 0.08, gamma=0, subsample=0.75, colsample_bytree=1)"
   ]
  },
  {
   "cell_type": "code",
   "execution_count": null,
   "metadata": {},
   "outputs": [],
   "source": []
  },
  {
   "cell_type": "raw",
   "metadata": {},
   "source": []
  },
  {
   "cell_type": "code",
   "execution_count": null,
   "metadata": {},
   "outputs": [],
   "source": [
    "train_X.values\n"
   ]
  },
  {
   "cell_type": "code",
   "execution_count": null,
   "metadata": {},
   "outputs": [],
   "source": [
    "xgb_instance.fit(train_X.values.reshape((len(train_X), 1)), train_Y.values)"
   ]
  },
  {
   "cell_type": "code",
   "execution_count": null,
   "metadata": {},
   "outputs": [],
   "source": [
    "y_pred = xgb_instance.predict(test_X.values.reshape((len(test_X), 1)))"
   ]
  },
  {
   "cell_type": "code",
   "execution_count": 59,
   "metadata": {},
   "outputs": [
    {
     "data": {
      "text/plain": [
       "<matplotlib.collections.PathCollection at 0x1a39f346e08>"
      ]
     },
     "execution_count": 59,
     "metadata": {},
     "output_type": "execute_result"
    },
    {
     "data": {
      "image/png": "[encoded data removed]",
      "text/plain": [
       "<Figure size 432x288 with 1 Axes>"
      ]
     },
     "metadata": {
      "needs_background": "light"
     },
     "output_type": "display_data"
    }
   ],
   "source": [
    "plt.scatter(test_X, test_Y)\n",
    "plt.scatter(test_X, y_pred)"
   ]
  },
  {
   "cell_type": "code",
   "execution_count": 35,
   "metadata": {},
   "outputs": [],
   "source": [
    "#Troubleshooting weights function\n",
    "def get_weights(r0, mean, std, covar):\n",
    "   \n",
    "    #mean = [i.mean() for i in stocks]\n",
    "    #std = [i.std() for i in stocks]\n",
    "    \n",
    "    n = len(mean)\n",
    "    mean = mean.values.reshape((n,1))\n",
    "    #np.matmul(covar_inverse, covar)\n",
    "    ones_column = np.ones((n, 1))\n",
    "    mu_matrix = np.hstack((mean, ones_column))\n",
    "\n",
    "    returns_matrix = np.vstack((r0,np.array([[1]]))) \n",
    "\n",
    "    A = np.zeros((2, 2))\n",
    "    A[0,0] = np.matmul(np.transpose(mean), np.linalg.solve(covar.values, mean))\n",
    "    A[0,1] = np.matmul(np.transpose(mean), np.linalg.solve(covar.values, ones_column))\n",
    "    A[1,0] = np.matmul(np.transpose(mean), np.linalg.solve(covar.values, ones_column))\n",
    "    A[1,1] = np.matmul(np.transpose(ones_column), np.linalg.solve(covar.values, ones_column))\n",
    "\n",
    "    return np.linalg.solve(covar.values, np.matmul(mu_matrix, np.linalg.solve(A, returns_matrix)))\n",
    "\n",
    "mean = stocks.mean()\n",
    "std = stocks.std()\n",
    "covar = stocks.cov()\n",
    "r0s = np.linspace(mean.min(), mean.max(), 1000)\n",
    "\n",
    "data_x = []\n",
    "data_y = []\n",
    "for r0 in r0s:\n",
    "    weights_vector = get_weights(r0, mean, std, covar)\n",
    "    portfolio = stocks.dot(weights_vector)\n",
    "    data_x.append(portfolio.mean())\n",
    "    data_y.append(portfolio.std())\n"
   ]
  },
  {
   "cell_type": "code",
   "execution_count": 37,
   "metadata": {},
   "outputs": [
    {
     "data": {
      "text/plain": [
       "<matplotlib.collections.PathCollection at 0x1d1b01236c8>"
      ]
     },
     "execution_count": 37,
     "metadata": {},
     "output_type": "execute_result"
    },
    {
     "data": {
      "image/png": "[encoded data removed]",
      "text/plain": [
       "<Figure size 432x288 with 1 Axes>"
      ]
     },
     "metadata": {
      "needs_background": "light"
     },
     "output_type": "display_data"
    }
   ],
   "source": [
    "plt.scatter(data_y, data_x)"
   ]
  }
 ],
 "metadata": {
  "kernelspec": {
   "display_name": "Python 3",
   "language": "python",
   "name": "python3"
  },
  "language_info": {
   "codemirror_mode": {
    "name": "ipython",
    "version": 3
   },
   "file_extension": ".py",
   "mimetype": "text/x-python",
   "name": "python",
   "nbconvert_exporter": "python",
   "pygments_lexer": "ipython3",
   "version": "3.7.6"
  }
 },
 "nbformat": 4,
 "nbformat_minor": 4
}
