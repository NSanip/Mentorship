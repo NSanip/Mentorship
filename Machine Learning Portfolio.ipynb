{
 "cells": [
  {
   "cell_type": "markdown",
   "id": "1e023e86",
   "metadata": {},
   "source": [
    "# Library Initialization"
   ]
  },
  {
   "cell_type": "code",
   "execution_count": 3,
   "id": "947e92b8",
   "metadata": {},
   "outputs": [],
   "source": [
    "import yfinance as yf\n",
    "import numpy as np\n",
    "import matplotlib.pyplot as plt\n",
    "import pandas as pd\n",
    "#import xgboost as xgb\n",
    "from sklearn.model_selection import train_test_split\n",
    "import empyrical\n",
    "from pypfopt.efficient_frontier import EfficientFrontier\n",
    "from sklearn import linear_model\n"
   ]
  },
  {
   "cell_type": "markdown",
   "id": "063b7896",
   "metadata": {},
   "source": [
    "# Data Imports"
   ]
  },
  {
   "cell_type": "code",
   "execution_count": 7,
   "id": "7def83b2",
   "metadata": {},
   "outputs": [],
   "source": [
    "tickers = [\"GE\", \"PFE\",\"SBUX\", \"GME\", \"DAL\", \"AAPL\", \"GOOGL\" ]\n",
    "stocks = pd.concat([yf.Ticker(i).history(period = \"max\")[\"Close\"].pct_change().dropna().rename(i) for i in tickers], axis=1, join = 'inner')\n"
   ]
  },
  {
   "cell_type": "code",
   "execution_count": 81,
   "id": "efc940cc",
   "metadata": {},
   "outputs": [
    {
     "name": "stderr",
     "output_type": "stream",
     "text": [
      "<ipython-input-81-148cabd8c903>:10: FutureWarning: arrays to stack must be passed as a \"sequence\" type such as list or tuple. Support for non-sequence iterables such as generators is deprecated as of NumPy 1.16 and will raise an error in the future.\n",
      "  X1 = np.vstack((X1[col].values.reshape(-1,1) for col in X1.columns))\n",
      "<ipython-input-81-148cabd8c903>:11: FutureWarning: arrays to stack must be passed as a \"sequence\" type such as list or tuple. Support for non-sequence iterables such as generators is deprecated as of NumPy 1.16 and will raise an error in the future.\n",
      "  X2 = np.vstack((X2[col].values.reshape(-1,1) for col in X2.columns))\n",
      "<ipython-input-81-148cabd8c903>:13: FutureWarning: arrays to stack must be passed as a \"sequence\" type such as list or tuple. Support for non-sequence iterables such as generators is deprecated as of NumPy 1.16 and will raise an error in the future.\n",
      "  Y = np.vstack((Y[col].values.reshape(-1,1) for col in Y.columns)).flatten()\n"
     ]
    }
   ],
   "source": [
    "days = 5\n",
    "weeks = 2\n",
    "#Means\n",
    "\n",
    "X1 = stocks.resample(str(days)+\"d\").mean()\n",
    "X2 = stocks.resample(str(days)+\"d\").mean().shift(1).dropna()\n",
    "Y = stocks.resample(str(days)+\"d\").mean().shift(2).dropna()\n",
    "X2 = X2.iloc[:-1]\n",
    "X1 = X1.iloc[:-2]\n",
    "X1 = np.vstack((X1[col].values.reshape(-1,1) for col in X1.columns))\n",
    "X2 = np.vstack((X2[col].values.reshape(-1,1) for col in X2.columns))\n",
    "X = np.hstack((X1, X2))\n",
    "Y = np.vstack((Y[col].values.reshape(-1,1) for col in Y.columns)).flatten()\n",
    "#Covar\n"
   ]
  },
  {
   "cell_type": "code",
   "execution_count": 87,
   "id": "9a317757",
   "metadata": {},
   "outputs": [
    {
     "data": {
      "text/plain": [
       "(7133, 2)"
      ]
     },
     "execution_count": 87,
     "metadata": {},
     "output_type": "execute_result"
    }
   ],
   "source": [
    "X.shape"
   ]
  },
  {
   "cell_type": "code",
   "execution_count": 22,
   "id": "915bd2a4",
   "metadata": {},
   "outputs": [
    {
     "data": {
      "text/html": [
       "<div>\n",
       "<style scoped>\n",
       "    .dataframe tbody tr th:only-of-type {\n",
       "        vertical-align: middle;\n",
       "    }\n",
       "\n",
       "    .dataframe tbody tr th {\n",
       "        vertical-align: top;\n",
       "    }\n",
       "\n",
       "    .dataframe thead th {\n",
       "        text-align: right;\n",
       "    }\n",
       "</style>\n",
       "<table border=\"1\" class=\"dataframe\">\n",
       "  <thead>\n",
       "    <tr style=\"text-align: right;\">\n",
       "      <th></th>\n",
       "      <th>GE</th>\n",
       "      <th>PFE</th>\n",
       "      <th>SBUX</th>\n",
       "      <th>GME</th>\n",
       "      <th>DAL</th>\n",
       "      <th>AAPL</th>\n",
       "      <th>GOOGL</th>\n",
       "    </tr>\n",
       "    <tr>\n",
       "      <th>Date</th>\n",
       "      <th></th>\n",
       "      <th></th>\n",
       "      <th></th>\n",
       "      <th></th>\n",
       "      <th></th>\n",
       "      <th></th>\n",
       "      <th></th>\n",
       "    </tr>\n",
       "  </thead>\n",
       "  <tbody>\n",
       "    <tr>\n",
       "      <th>2007-05-09</th>\n",
       "      <td>-0.002321</td>\n",
       "      <td>0.005933</td>\n",
       "      <td>-0.015366</td>\n",
       "      <td>-0.001272</td>\n",
       "      <td>-0.017619</td>\n",
       "      <td>0.015301</td>\n",
       "      <td>-0.004538</td>\n",
       "    </tr>\n",
       "    <tr>\n",
       "      <th>2007-05-14</th>\n",
       "      <td>-0.000954</td>\n",
       "      <td>-0.000201</td>\n",
       "      <td>-0.006305</td>\n",
       "      <td>-0.008208</td>\n",
       "      <td>-0.005567</td>\n",
       "      <td>0.011557</td>\n",
       "      <td>0.000022</td>\n",
       "    </tr>\n",
       "    <tr>\n",
       "      <th>2007-05-19</th>\n",
       "      <td>-0.000021</td>\n",
       "      <td>0.002952</td>\n",
       "      <td>-0.004377</td>\n",
       "      <td>0.017555</td>\n",
       "      <td>0.000449</td>\n",
       "      <td>0.002413</td>\n",
       "      <td>0.001647</td>\n",
       "    </tr>\n",
       "    <tr>\n",
       "      <th>2007-05-24</th>\n",
       "      <td>0.005740</td>\n",
       "      <td>-0.001216</td>\n",
       "      <td>-0.000653</td>\n",
       "      <td>0.003165</td>\n",
       "      <td>-0.001550</td>\n",
       "      <td>0.008674</td>\n",
       "      <td>0.002600</td>\n",
       "    </tr>\n",
       "    <tr>\n",
       "      <th>2007-05-29</th>\n",
       "      <td>-0.000518</td>\n",
       "      <td>0.003485</td>\n",
       "      <td>-0.004740</td>\n",
       "      <td>-0.000690</td>\n",
       "      <td>-0.011780</td>\n",
       "      <td>0.003491</td>\n",
       "      <td>0.010067</td>\n",
       "    </tr>\n",
       "    <tr>\n",
       "      <th>...</th>\n",
       "      <td>...</td>\n",
       "      <td>...</td>\n",
       "      <td>...</td>\n",
       "      <td>...</td>\n",
       "      <td>...</td>\n",
       "      <td>...</td>\n",
       "      <td>...</td>\n",
       "    </tr>\n",
       "    <tr>\n",
       "      <th>2021-03-31</th>\n",
       "      <td>0.011614</td>\n",
       "      <td>0.004180</td>\n",
       "      <td>0.009065</td>\n",
       "      <td>0.019759</td>\n",
       "      <td>0.013361</td>\n",
       "      <td>-0.001883</td>\n",
       "      <td>0.002310</td>\n",
       "    </tr>\n",
       "    <tr>\n",
       "      <th>2021-04-05</th>\n",
       "      <td>-0.000679</td>\n",
       "      <td>0.002628</td>\n",
       "      <td>-0.004031</td>\n",
       "      <td>-0.007637</td>\n",
       "      <td>-0.000644</td>\n",
       "      <td>0.012862</td>\n",
       "      <td>0.020227</td>\n",
       "    </tr>\n",
       "    <tr>\n",
       "      <th>2021-04-10</th>\n",
       "      <td>0.004797</td>\n",
       "      <td>0.001683</td>\n",
       "      <td>0.006889</td>\n",
       "      <td>-0.037044</td>\n",
       "      <td>0.002051</td>\n",
       "      <td>0.015783</td>\n",
       "      <td>0.013012</td>\n",
       "    </tr>\n",
       "    <tr>\n",
       "      <th>2021-04-15</th>\n",
       "      <td>0.002028</td>\n",
       "      <td>0.005173</td>\n",
       "      <td>0.005817</td>\n",
       "      <td>0.023794</td>\n",
       "      <td>-0.007490</td>\n",
       "      <td>-0.002260</td>\n",
       "      <td>-0.004218</td>\n",
       "    </tr>\n",
       "    <tr>\n",
       "      <th>2021-04-20</th>\n",
       "      <td>-0.005361</td>\n",
       "      <td>0.015567</td>\n",
       "      <td>0.007058</td>\n",
       "      <td>-0.003066</td>\n",
       "      <td>-0.014125</td>\n",
       "      <td>0.007083</td>\n",
       "      <td>0.007103</td>\n",
       "    </tr>\n",
       "  </tbody>\n",
       "</table>\n",
       "<p>1020 rows × 7 columns</p>\n",
       "</div>"
      ],
      "text/plain": [
       "                  GE       PFE      SBUX       GME       DAL      AAPL  \\\n",
       "Date                                                                     \n",
       "2007-05-09 -0.002321  0.005933 -0.015366 -0.001272 -0.017619  0.015301   \n",
       "2007-05-14 -0.000954 -0.000201 -0.006305 -0.008208 -0.005567  0.011557   \n",
       "2007-05-19 -0.000021  0.002952 -0.004377  0.017555  0.000449  0.002413   \n",
       "2007-05-24  0.005740 -0.001216 -0.000653  0.003165 -0.001550  0.008674   \n",
       "2007-05-29 -0.000518  0.003485 -0.004740 -0.000690 -0.011780  0.003491   \n",
       "...              ...       ...       ...       ...       ...       ...   \n",
       "2021-03-31  0.011614  0.004180  0.009065  0.019759  0.013361 -0.001883   \n",
       "2021-04-05 -0.000679  0.002628 -0.004031 -0.007637 -0.000644  0.012862   \n",
       "2021-04-10  0.004797  0.001683  0.006889 -0.037044  0.002051  0.015783   \n",
       "2021-04-15  0.002028  0.005173  0.005817  0.023794 -0.007490 -0.002260   \n",
       "2021-04-20 -0.005361  0.015567  0.007058 -0.003066 -0.014125  0.007083   \n",
       "\n",
       "               GOOGL  \n",
       "Date                  \n",
       "2007-05-09 -0.004538  \n",
       "2007-05-14  0.000022  \n",
       "2007-05-19  0.001647  \n",
       "2007-05-24  0.002600  \n",
       "2007-05-29  0.010067  \n",
       "...              ...  \n",
       "2021-03-31  0.002310  \n",
       "2021-04-05  0.020227  \n",
       "2021-04-10  0.013012  \n",
       "2021-04-15 -0.004218  \n",
       "2021-04-20  0.007103  \n",
       "\n",
       "[1020 rows x 7 columns]"
      ]
     },
     "execution_count": 22,
     "metadata": {},
     "output_type": "execute_result"
    }
   ],
   "source": [
    "Y"
   ]
  },
  {
   "cell_type": "markdown",
   "id": "99f3ce8d",
   "metadata": {},
   "source": [
    "# Mean-Variance Optimization Function"
   ]
  },
  {
   "cell_type": "code",
   "execution_count": 148,
   "id": "f9941ab5",
   "metadata": {},
   "outputs": [],
   "source": [
    "days = 5\n",
    "X_sample = stocks.resample(str(days)+\"d\").mean()\n",
    "dates = X_sample.index[1:-1]\n",
    "portfolio = pd.DataFrame()\n",
    "\n",
    "saved_weights = []\n",
    "r0s = []\n",
    "\n",
    "for day in dates[2:]: \n",
    "    sample_1 = stocks[day-pd.offsets.DateOffset(days = 2*days):day-pd.offsets.DateOffset(days=days-1)]\n",
    "    sample_2 = stocks[day-pd.offsets.DateOffset(days = days):day-pd.offsets.DateOffset(days=1)]\n",
    "    X1 = sample_1.mean().values.reshape(-1,1)\n",
    "    X2 = sample_2.mean().values.reshape(-1,1)\n",
    "    X_data = np.hstack((X1, X2))\n",
    "    #sample = stocks[day+pd.offsets.DateOffset(days = 7):day+pd.offsets.DateOffset(days=13)]\n",
    "    #Using Previous Data:\n",
    "    #mean = sample.mean(axis=0)\n",
    "    mean = pd.Series(model.predict(X_data), index = sample.columns)\n",
    "    covar = sample.cov()\n",
    "    \n",
    "    \n",
    "    weights_vector = [EfficientFrontier(mean,covar).max_quadratic_utility()[ticker] for ticker in stocks.columns]\n",
    "    portfolio = pd.concat([portfolio,stocks[day:day+pd.offsets.DateOffset(days=days-1)].dot(weights_vector)])\n",
    "    saved_weights.append(weights_vector)\n",
    "portfolio = portfolio.sort_index()\n",
    "saved_weights = pd.DataFrame(saved_weights, index = dates[2:], columns = tickers)"
   ]
  },
  {
   "cell_type": "code",
   "execution_count": 149,
   "id": "4576cd52",
   "metadata": {},
   "outputs": [
    {
     "data": {
      "text/plain": [
       "array([0.60327042])"
      ]
     },
     "execution_count": 149,
     "metadata": {},
     "output_type": "execute_result"
    }
   ],
   "source": [
    "empyrical.sharpe_ratio(portfolio)"
   ]
  },
  {
   "cell_type": "markdown",
   "id": "eaa38040",
   "metadata": {},
   "source": [
    "# Ridge CV Regression Model"
   ]
  },
  {
   "cell_type": "code",
   "execution_count": 89,
   "id": "c8e3f5b7",
   "metadata": {},
   "outputs": [
    {
     "data": {
      "text/plain": [
       "<matplotlib.collections.PathCollection at 0x273cd058eb0>"
      ]
     },
     "execution_count": 89,
     "metadata": {},
     "output_type": "execute_result"
    },
    {
     "data": {
      "image/png": "[encoded data removed]",
      "text/plain": [
       "<Figure size 432x288 with 1 Axes>"
      ]
     },
     "metadata": {
      "needs_background": "light"
     },
     "output_type": "display_data"
    }
   ],
   "source": [
    "model = linear_model.RidgeCV()\n",
    "model.fit(X, Y)\n",
    "y_pred = model.predict(X)\n",
    "plt.plot(X, y_pred)\n",
    "plt.scatter(X[:,0], Y)\n",
    "plt.scatter(X[:,0], Y)"
   ]
  }
 ],
 "metadata": {
  "kernelspec": {
   "display_name": "Python 3",
   "language": "python",
   "name": "python3"
  },
  "language_info": {
   "codemirror_mode": {
    "name": "ipython",
    "version": 3
   },
   "file_extension": ".py",
   "mimetype": "text/x-python",
   "name": "python",
   "nbconvert_exporter": "python",
   "pygments_lexer": "ipython3",
   "version": "3.8.8"
  }
 },
 "nbformat": 4,
 "nbformat_minor": 5
}
