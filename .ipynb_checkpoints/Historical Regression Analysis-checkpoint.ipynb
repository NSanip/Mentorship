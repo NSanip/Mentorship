{
 "cells": [
  {
   "cell_type": "code",
   "execution_count": 2,
   "metadata": {},
   "outputs": [],
   "source": [
    "from sklearn.model_selection import train_test_split\n",
    "from tensorflow import keras\n",
    "from tensorflow.keras import layers\n",
    "import matplotlib.pyplot as plt\n",
    "import numpy as np \n",
    "import pandas as pd \n",
    "import yfinance as yf"
   ]
  },
  {
   "cell_type": "code",
   "execution_count": 3,
   "metadata": {},
   "outputs": [],
   "source": [
    "tickers = [\"GE\"]\n",
    "stocks = pd.concat([yf.Ticker(i).history(period = \"max\")[\"Close\"].pct_change().dropna().rename(i) for i in tickers], axis=1, join = 'inner')"
   ]
  },
  {
   "cell_type": "code",
   "execution_count": 4,
   "metadata": {},
   "outputs": [],
   "source": [
    "#The Goal of this cell is to set the earliest date as a basis, and then count upwards in days\n",
    "dataframe_length = [i for i in range(len(stocks))]\n",
    "stocks[\"ID\"] = dataframe_length\n",
    "#stocks.reindex(dataframe_length)\n",
    "new = stocks.set_index(stocks[\"ID\"])"
   ]
  },
  {
   "cell_type": "code",
   "execution_count": 5,
   "metadata": {},
   "outputs": [],
   "source": [
    "train_set, validation_set = train_test_split(new)"
   ]
  },
  {
   "cell_type": "code",
   "execution_count": 6,
   "metadata": {},
   "outputs": [],
   "source": [
    "model = keras.Sequential([\n",
    "    layers.Dense(units = 1, activation = 'linear', input_shape=[1]),\n",
    "    layers.Dense(units = 64, activation = 'relu'),\n",
    "    layers.Dense(units = 64, activation = 'relu'),\n",
    "    layers.Dense(units = 1, activation = 'linear'),\n",
    "])\n",
    "\n",
    "model.compile(loss=\"mse\", optimizer='adam')"
   ]
  },
  {
   "cell_type": "code",
   "execution_count": null,
   "metadata": {},
   "outputs": [],
   "source": [
    "train = model.fit(train_set[\"ID\"].values, train_set[\"GE\"].values, batch_size = 50, epochs = 100, verbose = 1)\n"
   ]
  },
  {
   "cell_type": "code",
   "execution_count": null,
   "metadata": {},
   "outputs": [],
   "source": []
  }
 ],
 "metadata": {
  "kernelspec": {
   "display_name": "Python 3",
   "language": "python",
   "name": "python3"
  },
  "language_info": {
   "codemirror_mode": {
    "name": "ipython",
    "version": 3
   },
   "file_extension": ".py",
   "mimetype": "text/x-python",
   "name": "python",
   "nbconvert_exporter": "python",
   "pygments_lexer": "ipython3",
   "version": "3.7.6"
  }
 },
 "nbformat": 4,
 "nbformat_minor": 4
}
