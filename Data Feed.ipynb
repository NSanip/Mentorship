{
 "cells": [
  {
   "cell_type": "code",
   "execution_count": 12,
   "metadata": {},
   "outputs": [],
   "source": [
    "import tensorflow as tf\n",
    "import yfinance as yf \n",
    "import pandas as pd\n",
    "from tensorflow.keras.preprocessing import timeseries_dataset_from_array\n"
   ]
  },
  {
   "cell_type": "markdown",
   "metadata": {},
   "source": [
    "## Data Import & Ticker Selection"
   ]
  },
  {
   "cell_type": "code",
   "execution_count": 10,
   "metadata": {},
   "outputs": [],
   "source": [
    "days = 21\n",
    "tickers = [\"GE\", \"AAPL\", \"GOOGL\"]\n",
    "stocks = pd.concat([yf.Ticker(i).history(period = \"max\")[\"Close\"].pct_change().dropna().rename(i) for i in tickers], axis=1, join = 'inner')"
   ]
  },
  {
   "cell_type": "code",
   "execution_count": 11,
   "metadata": {},
   "outputs": [
    {
     "data": {
      "text/html": [
       "<div>\n",
       "<style scoped>\n",
       "    .dataframe tbody tr th:only-of-type {\n",
       "        vertical-align: middle;\n",
       "    }\n",
       "\n",
       "    .dataframe tbody tr th {\n",
       "        vertical-align: top;\n",
       "    }\n",
       "\n",
       "    .dataframe thead th {\n",
       "        text-align: right;\n",
       "    }\n",
       "</style>\n",
       "<table border=\"1\" class=\"dataframe\">\n",
       "  <thead>\n",
       "    <tr style=\"text-align: right;\">\n",
       "      <th></th>\n",
       "      <th>GE</th>\n",
       "      <th>AAPL</th>\n",
       "      <th>GOOGL</th>\n",
       "    </tr>\n",
       "    <tr>\n",
       "      <th>Date</th>\n",
       "      <th></th>\n",
       "      <th></th>\n",
       "      <th></th>\n",
       "    </tr>\n",
       "  </thead>\n",
       "  <tbody>\n",
       "    <tr>\n",
       "      <th>2004-08-20</th>\n",
       "      <td>0.002491</td>\n",
       "      <td>0.011008</td>\n",
       "      <td>0.001790</td>\n",
       "    </tr>\n",
       "    <tr>\n",
       "      <th>2004-09-10</th>\n",
       "      <td>-0.000125</td>\n",
       "      <td>0.005579</td>\n",
       "      <td>0.016137</td>\n",
       "    </tr>\n",
       "    <tr>\n",
       "      <th>2004-10-01</th>\n",
       "      <td>-0.000385</td>\n",
       "      <td>0.014931</td>\n",
       "      <td>0.009836</td>\n",
       "    </tr>\n",
       "    <tr>\n",
       "      <th>2004-10-22</th>\n",
       "      <td>0.004739</td>\n",
       "      <td>0.009722</td>\n",
       "      <td>0.015214</td>\n",
       "    </tr>\n",
       "    <tr>\n",
       "      <th>2004-11-12</th>\n",
       "      <td>0.000319</td>\n",
       "      <td>0.012468</td>\n",
       "      <td>-0.001087</td>\n",
       "    </tr>\n",
       "    <tr>\n",
       "      <th>...</th>\n",
       "      <td>...</td>\n",
       "      <td>...</td>\n",
       "      <td>...</td>\n",
       "    </tr>\n",
       "    <tr>\n",
       "      <th>2021-01-29</th>\n",
       "      <td>0.003611</td>\n",
       "      <td>-0.003732</td>\n",
       "      <td>0.009384</td>\n",
       "    </tr>\n",
       "    <tr>\n",
       "      <th>2021-02-19</th>\n",
       "      <td>0.004271</td>\n",
       "      <td>-0.003769</td>\n",
       "      <td>0.000066</td>\n",
       "    </tr>\n",
       "    <tr>\n",
       "      <th>2021-03-12</th>\n",
       "      <td>0.005600</td>\n",
       "      <td>0.000695</td>\n",
       "      <td>0.001020</td>\n",
       "    </tr>\n",
       "    <tr>\n",
       "      <th>2021-04-02</th>\n",
       "      <td>0.000783</td>\n",
       "      <td>0.005128</td>\n",
       "      <td>0.004100</td>\n",
       "    </tr>\n",
       "    <tr>\n",
       "      <th>2021-04-23</th>\n",
       "      <td>0.000117</td>\n",
       "      <td>-0.002904</td>\n",
       "      <td>0.001460</td>\n",
       "    </tr>\n",
       "  </tbody>\n",
       "</table>\n",
       "<p>291 rows × 3 columns</p>\n",
       "</div>"
      ],
      "text/plain": [
       "                  GE      AAPL     GOOGL\n",
       "Date                                    \n",
       "2004-08-20  0.002491  0.011008  0.001790\n",
       "2004-09-10 -0.000125  0.005579  0.016137\n",
       "2004-10-01 -0.000385  0.014931  0.009836\n",
       "2004-10-22  0.004739  0.009722  0.015214\n",
       "2004-11-12  0.000319  0.012468 -0.001087\n",
       "...              ...       ...       ...\n",
       "2021-01-29  0.003611 -0.003732  0.009384\n",
       "2021-02-19  0.004271 -0.003769  0.000066\n",
       "2021-03-12  0.005600  0.000695  0.001020\n",
       "2021-04-02  0.000783  0.005128  0.004100\n",
       "2021-04-23  0.000117 -0.002904  0.001460\n",
       "\n",
       "[291 rows x 3 columns]"
      ]
     },
     "execution_count": 11,
     "metadata": {},
     "output_type": "execute_result"
    }
   ],
   "source": []
  }
 ],
 "metadata": {
  "kernelspec": {
   "display_name": "Python 3",
   "language": "python",
   "name": "python3"
  },
  "language_info": {
   "codemirror_mode": {
    "name": "ipython",
    "version": 3
   },
   "file_extension": ".py",
   "mimetype": "text/x-python",
   "name": "python",
   "nbconvert_exporter": "python",
   "pygments_lexer": "ipython3",
   "version": "3.8.5"
  }
 },
 "nbformat": 4,
 "nbformat_minor": 4
}
