{
 "cells": [
  {
   "cell_type": "code",
   "execution_count": 4,
   "metadata": {},
   "outputs": [],
   "source": [
    "import tensorflow as tf\n",
    "import yfinance as yf \n",
    "import pandas as pd\n",
    "from tensorflow.keras.preprocessing import timeseries_dataset_from_array\n"
   ]
  },
  {
   "cell_type": "markdown",
   "metadata": {},
   "source": [
    "## Data Import & Ticker Selection"
   ]
  },
  {
   "cell_type": "code",
   "execution_count": 5,
   "metadata": {},
   "outputs": [],
   "source": [
    "days = 21\n",
    "tickers = [\"GE\", \"AAPL\", \"GOOGL\"]\n",
    "stocks = pd.concat([yf.Ticker(i).history(period = \"max\")[\"Close\"].pct_change().dropna().rename(i) for i in tickers], axis=1, join = 'inner')"
   ]
  },
  {
   "cell_type": "markdown",
   "metadata": {},
   "source": [
    "## Data Windowing (Time-Series Data)"
   ]
  },
  {
   "cell_type": "code",
   "execution_count": 51,
   "metadata": {},
   "outputs": [],
   "source": [
    "train_period = stocks[:\"2019\"]\n",
    "rolling_window_size_days = 3\n",
    "periods = 3\n",
    "train_windows = timeseries_dataset_from_array(data = train_period.iloc[:-rolling_window_size_days], \n",
    "                                              targets = train_period.shift(-rolling_window_size_days).dropna(),\n",
    "                                              sequence_length = periods,\n",
    "                                              batch_size = len(train_period-1)\n",
    "                                              \n",
    ")\n",
    "train_X, train_Y= [i for i in train_windows][0]\n",
    "\n"
   ]
  },
  {
   "cell_type": "code",
   "execution_count": 54,
   "metadata": {},
   "outputs": [],
   "source": [
    "test_period = stocks[\"2019\":]\n",
    "rolling_window_size_days = 3\n",
    "periods = 3\n",
    "test_windows = timeseries_dataset_from_array(data = test_period.iloc[:-rolling_window_size_days], \n",
    "                                              targets = test_period.shift(-rolling_window_size_days).dropna(),\n",
    "                                              sequence_length = periods,\n",
    "                                              batch_size = len(test_period-1)\n",
    "                                              \n",
    ")\n",
    "test_X, test_Y= [i for i in test_windows][0]\n",
    "\n"
   ]
  },
  {
   "cell_type": "raw",
   "metadata": {
    "tags": []
   },
   "source": []
  }
 ],
 "metadata": {
  "kernelspec": {
   "display_name": "Python 3",
   "language": "python",
   "name": "python3"
  },
  "language_info": {
   "codemirror_mode": {
    "name": "ipython",
    "version": 3
   },
   "file_extension": ".py",
   "mimetype": "text/x-python",
   "name": "python",
   "nbconvert_exporter": "python",
   "pygments_lexer": "ipython3",
   "version": "3.8.5"
  }
 },
 "nbformat": 4,
 "nbformat_minor": 4
}
